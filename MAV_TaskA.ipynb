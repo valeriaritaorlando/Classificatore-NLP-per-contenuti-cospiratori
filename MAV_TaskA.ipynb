{
  "nbformat": 4,
  "nbformat_minor": 0,
  "metadata": {
    "colab": {
      "provenance": [],
      "collapsed_sections": [
        "oba_b2He1Mnm",
        "-DH0TGSO3NbZ",
        "LvzceNeeCqfH",
        "kn9T9SkEWQdK",
        "b-I3IO0i1eWl",
        "5e-hAPh43RT-",
        "ERRrREvGz0OP",
        "Imcb9aj2z3uQ",
        "XjE0rDxB1SLz",
        "E-qo9INxhPjH",
        "ADZpkjYYabbM",
        "_jEu3rIx8cvQ",
        "DxCddJewN1Cg"
      ],
      "gpuType": "T4"
    },
    "kernelspec": {
      "name": "python3",
      "display_name": "Python 3"
    },
    "language_info": {
      "name": "python"
    },
    "accelerator": "GPU"
  },
  "cells": [
    {
      "cell_type": "markdown",
      "source": [
        "Installiamo la libreria Transformers, libreria open source sviluppata da Hugging Face. Questa libreria è utile per l'implementazione di modelli di trasformatori pre-addestrati"
      ],
      "metadata": {
        "id": "WR5tS6gDi1GN"
      }
    },
    {
      "cell_type": "code",
      "execution_count": 1,
      "metadata": {
        "id": "vB7GNwE6EwIP",
        "colab": {
          "base_uri": "https://localhost:8080/"
        },
        "outputId": "02d2fecf-1cf1-4529-b10f-f30ac1198fad"
      },
      "outputs": [
        {
          "output_type": "stream",
          "name": "stdout",
          "text": [
            "Requirement already satisfied: transformers in /usr/local/lib/python3.10/dist-packages (4.35.2)\n",
            "Requirement already satisfied: filelock in /usr/local/lib/python3.10/dist-packages (from transformers) (3.13.1)\n",
            "Requirement already satisfied: huggingface-hub<1.0,>=0.16.4 in /usr/local/lib/python3.10/dist-packages (from transformers) (0.20.1)\n",
            "Requirement already satisfied: numpy>=1.17 in /usr/local/lib/python3.10/dist-packages (from transformers) (1.23.5)\n",
            "Requirement already satisfied: packaging>=20.0 in /usr/local/lib/python3.10/dist-packages (from transformers) (23.2)\n",
            "Requirement already satisfied: pyyaml>=5.1 in /usr/local/lib/python3.10/dist-packages (from transformers) (6.0.1)\n",
            "Requirement already satisfied: regex!=2019.12.17 in /usr/local/lib/python3.10/dist-packages (from transformers) (2023.6.3)\n",
            "Requirement already satisfied: requests in /usr/local/lib/python3.10/dist-packages (from transformers) (2.31.0)\n",
            "Requirement already satisfied: tokenizers<0.19,>=0.14 in /usr/local/lib/python3.10/dist-packages (from transformers) (0.15.0)\n",
            "Requirement already satisfied: safetensors>=0.3.1 in /usr/local/lib/python3.10/dist-packages (from transformers) (0.4.1)\n",
            "Requirement already satisfied: tqdm>=4.27 in /usr/local/lib/python3.10/dist-packages (from transformers) (4.66.1)\n",
            "Requirement already satisfied: fsspec>=2023.5.0 in /usr/local/lib/python3.10/dist-packages (from huggingface-hub<1.0,>=0.16.4->transformers) (2023.6.0)\n",
            "Requirement already satisfied: typing-extensions>=3.7.4.3 in /usr/local/lib/python3.10/dist-packages (from huggingface-hub<1.0,>=0.16.4->transformers) (4.5.0)\n",
            "Requirement already satisfied: charset-normalizer<4,>=2 in /usr/local/lib/python3.10/dist-packages (from requests->transformers) (3.3.2)\n",
            "Requirement already satisfied: idna<4,>=2.5 in /usr/local/lib/python3.10/dist-packages (from requests->transformers) (3.6)\n",
            "Requirement already satisfied: urllib3<3,>=1.21.1 in /usr/local/lib/python3.10/dist-packages (from requests->transformers) (2.0.7)\n",
            "Requirement already satisfied: certifi>=2017.4.17 in /usr/local/lib/python3.10/dist-packages (from requests->transformers) (2023.11.17)\n"
          ]
        }
      ],
      "source": [
        "!pip install transformers"
      ]
    },
    {
      "cell_type": "code",
      "execution_count": 2,
      "metadata": {
        "colab": {
          "base_uri": "https://localhost:8080/"
        },
        "id": "7cw2EFywA9t_",
        "outputId": "8b084d7a-baff-4882-d36e-d154debb5b5e"
      },
      "outputs": [
        {
          "output_type": "stream",
          "name": "stderr",
          "text": [
            "[nltk_data] Downloading package punkt to /root/nltk_data...\n",
            "[nltk_data]   Unzipping tokenizers/punkt.zip.\n",
            "[nltk_data] Downloading package stopwords to /root/nltk_data...\n",
            "[nltk_data]   Unzipping corpora/stopwords.zip.\n"
          ]
        },
        {
          "output_type": "stream",
          "name": "stdout",
          "text": [
            "Mounted at /content/gdrive\n"
          ]
        }
      ],
      "source": [
        "import pandas as pd\n",
        "import sklearn\n",
        "from google.colab import drive\n",
        "import nltk\n",
        "import torch\n",
        "from torch import nn\n",
        "import numpy as np\n",
        "from tqdm import tqdm\n",
        "from torch.optim import Adam\n",
        "from sklearn.model_selection import train_test_split\n",
        "from transformers import AutoConfig, AutoModel, AutoTokenizer\n",
        "\n",
        "nltk.download('punkt')\n",
        "nltk.download('stopwords')\n",
        "\n",
        "drive.mount('/content/gdrive')\n",
        "root = \"/content/gdrive/MyDrive/Colab Notebooks/torch/\"\n",
        "df = pd.read_csv(root+\"data/subtaskA_train.csv\")"
      ]
    },
    {
      "cell_type": "markdown",
      "source": [
        "Instaziamo gli iperparametri. Molti degli iperparametri utilizzati sono stati scelti come vedremo successivamente, grazie all'utilizzo della grid search.\n",
        "Il language model utilizzato è invece xlm-roberta-base. Il motivo di questa scelta è legato alla struttura del dataset. Di fatti, se pur il dataset è un dataset in lingua italiana, contiene alcune parole o frasi in inglese il che ci ha portato ad una scelta di Roberta. Roberta è un modello multilingue, che riconosce anche le emoji, presenti nel nostro dataset"
      ],
      "metadata": {
        "id": "yjD1ycgMi6H_"
      }
    },
    {
      "cell_type": "code",
      "execution_count": 51,
      "metadata": {
        "id": "fG0XjLfQbFNH"
      },
      "outputs": [],
      "source": [
        "hyperparameters = {\n",
        "  \"epochs\": 1000,\n",
        "  \"learning_rate\": 2e-6,\n",
        "  \"batch_size\": 32,\n",
        "  \"dropout\": 0.3,\n",
        "  \"stopwords\": True,\n",
        "  \"h_dim\": 512,\n",
        "  \"num_layer_hidden\": 0,\n",
        "  \"patience\": 350,\n",
        "  \"min_delta\": 0.08,\n",
        "  \"max_seq_length\": 512,\n",
        "  \"language_model\": \"xlm-roberta-base\"\n",
        "}"
      ]
    },
    {
      "cell_type": "markdown",
      "source": [
        "# Data Pre-processing"
      ],
      "metadata": {
        "id": "oba_b2He1Mnm"
      }
    },
    {
      "cell_type": "markdown",
      "source": [
        "## Mantenimento Emoji più frequenti\n",
        "\n"
      ],
      "metadata": {
        "id": "-DH0TGSO3NbZ"
      }
    },
    {
      "cell_type": "markdown",
      "source": [
        "Questo blocco si occupa di gestire ed estrarre le emoji più comuni da ciascun commento, identificando e mantenendo le tre emoji più frequenti.\n",
        "Il codice inizialmente identifica le emoji più frequenti in tutto il dataset di commenti tramite la funzione **extract_most_common_emoji()** che estrae un elenco di tutte le emoji da ogni commento.\n",
        "La funzione **emoji_selezionata()** controlla se l'emoji corrispondente è nell'elenco top_3_emoji, che contiene le 3 emoji più frequenti, se lo è restituisce l'emoji, altrimenti restituisce una stringa vuota.\n",
        "Viene utilizzato Counter() per creare un dizionario in cui ogni chiave è un'emoji e il valore è la sua frequenza. Infine, ordina il dizionario in base alla frequenza in ordine decrescente e restituisce le prime tre emoji più frequenti.\n",
        "Infine tramite un espressione regolare viene vengono eliminati i caratteri speciali tra cui le emoji tranne per quelle emoji che sono contenute nell' elenco top_3_emoji\n"
      ],
      "metadata": {
        "id": "gsHaRJOQuVuC"
      }
    },
    {
      "cell_type": "code",
      "source": [
        "!pip install emoji"
      ],
      "metadata": {
        "id": "u0aidCYN7NdC"
      },
      "execution_count": null,
      "outputs": []
    },
    {
      "cell_type": "code",
      "source": [
        "last_df = df"
      ],
      "metadata": {
        "id": "k5YGLZvv-3cw"
      },
      "execution_count": 5,
      "outputs": []
    },
    {
      "cell_type": "code",
      "source": [
        "import emoji\n",
        "nltk.download(\"punkt\")\n",
        "\n",
        "def extract_most_common_emoji(text):\n",
        "  emojis = [element['emoji'] for element in emoji.emoji_list(text)]\n",
        "  return emojis\n",
        "\n",
        "# Funzione di sostituzione per mantenere solo le emoji desiderate\n",
        "def emoji_selezionata(match):\n",
        "  return match.group(0) if match.group(0) in top_3_emoji else ''"
      ],
      "metadata": {
        "colab": {
          "base_uri": "https://localhost:8080/"
        },
        "id": "vmPkZ8PH2lZt",
        "outputId": "db8f4cf0-e64c-4dda-fe36-0b391eac253e"
      },
      "execution_count": 6,
      "outputs": [
        {
          "output_type": "stream",
          "name": "stderr",
          "text": [
            "[nltk_data] Downloading package punkt to /root/nltk_data...\n",
            "[nltk_data]   Package punkt is already up-to-date!\n"
          ]
        }
      ]
    },
    {
      "cell_type": "code",
      "source": [
        "from itertools import chain\n",
        "from collections import Counter\n",
        "import re"
      ],
      "metadata": {
        "id": "yGboT5VyuhA0"
      },
      "execution_count": 7,
      "outputs": []
    },
    {
      "cell_type": "code",
      "source": [
        "# Esempio di utilizzo\n",
        "emojis_list = [extract_most_common_emoji(commento) for commento in df.comment_text]\n",
        "\n",
        "# Appiattimento della lista utilizzando itertools.chain\n",
        "emojis_list = list(chain(*emojis_list))\n",
        "\n",
        "# Creo dizionario contenente l'emoji con la propria frequenza\n",
        "emojis_dict = Counter(emojis_list)\n",
        "\n",
        "# Ordino il dizionario con le emoji\n",
        "emojis_dict = dict(sorted(emojis_dict.items(), key=lambda x: x[1], reverse=True))\n",
        "\n",
        "# Stampa le prime 3 emoji più frequenti\n",
        "top_3_emoji = [emoji[0] for emoji in list(emojis_dict.items())[:3]]\n",
        "\n",
        "for id, commento, conspiratorial in zip(df.index, df['comment_text'], df['conspiratorial']):\n",
        "  # espressione regolare originale\n",
        "  regex_pattern = r'\\b\\d{2}/\\d{2}/\\d{4}\\b|\\S+@\\S+|\\b\\d{4}-\\d{2}-\\d{2}\\b|https?://\\S+|[^\\w\\s🇮🇹]'\n",
        "\n",
        "  # Aggiungi la parte per mantenere le emoji in top_3_emoji, incluso \"IT\"\n",
        "  nuovo_regex_pattern = f'{regex_pattern}|(?<=\\s)({\"|\".join(re.escape(emoji) for emoji in top_3_emoji)})(?=\\s)'\n",
        "\n",
        "  # unisco le 2\n",
        "  commento = re.sub(nuovo_regex_pattern, emoji_selezionata, commento)\n",
        "\n",
        "  df.loc[id, 'comment_text'] = commento\n",
        "\n",
        "print(\"Top 3 Emojis:\", top_3_emoji)\n",
        "print(\"Num Tot. Emoji: \", len(emojis_list))"
      ],
      "metadata": {
        "colab": {
          "base_uri": "https://localhost:8080/"
        },
        "id": "N6fFXhaUsW1g",
        "outputId": "fbe9eb8a-7e28-41c7-c942-7a86d42f9c0d"
      },
      "execution_count": 8,
      "outputs": [
        {
          "output_type": "stream",
          "name": "stdout",
          "text": [
            "Top 3 Emojis: ['🇮🇹', '😂', '📊']\n",
            "Num Tot. Emoji:  1430\n"
          ]
        }
      ]
    },
    {
      "cell_type": "markdown",
      "source": [
        "## Lemmatizzazione"
      ],
      "metadata": {
        "id": "LvzceNeeCqfH"
      }
    },
    {
      "cell_type": "code",
      "source": [
        "!python -m spacy download it_core_news_sm"
      ],
      "metadata": {
        "id": "iY2Rt5tNEkfE"
      },
      "execution_count": null,
      "outputs": []
    },
    {
      "cell_type": "markdown",
      "source": [
        "In questo blocco viene implementata la lemmatizzazione che è un processo linguistico che consiste nel ricondurre una parola al suo lemma ovvero alla sua forma base.\n",
        "Il codice importa il modello \"SpaCy\" in italiano per poi iterare su ogni \"commento\" del dataset e creare un oggetto \"doc\" che contiene un elenco di token cioè segmenti di testo che rappresentano le parole, le frasi o le parti del testo che verranno processati dal modello per poi essere uniti in un unica frase che andrà ad aggiornare il dataset con il commeto lemmatizzato"
      ],
      "metadata": {
        "id": "iJUTRaJSIUFY"
      }
    },
    {
      "cell_type": "code",
      "source": [
        "import spacy\n",
        "\n",
        "# Carica il modello italiano di SpaCy\n",
        "nlp = spacy.load(\"it_core_news_sm\")\n",
        "\n",
        "for id, commento, conspiratorial in zip(df.index, df['comment_text'], df['conspiratorial']):\n",
        "  # Processa il testo con SpaCy\n",
        "  doc = nlp(commento)\n",
        "\n",
        "  #Unisci i vari token elaborati di una frase in un unica stringa\n",
        "  comment_lem = ' '.join([token.lemma_ for token in doc])\n",
        "\n",
        "  nuovo_record = {'ID': id, 'Comment text modificato': comment_lem, 'conspiratorial': conspiratorial}\n",
        "\n",
        "  df.loc[id, 'comment_text'] = comment_lem"
      ],
      "metadata": {
        "id": "AQ8lUORDCs_c"
      },
      "execution_count": 10,
      "outputs": []
    },
    {
      "cell_type": "markdown",
      "source": [
        "## Rimozione \\<unk>"
      ],
      "metadata": {
        "id": "kn9T9SkEWQdK"
      }
    },
    {
      "cell_type": "markdown",
      "source": [
        "La decisione di rimuovere le frasi contenenti il tag \\<unk> dal dataset è stata presa sulla base di un'osservazione significativa. Durante l'analisi del dataset, è emerso che solamente 104 frasi su un totale di dataset più ampio presentano il tag \\<unk>. Questa bassa frequenza suggerisce che la presenza di tale tag potrebbe rappresentare un'eccezione o un outlier all'interno del corpus. La rimozione di queste frasi con tag \\<unk> è stata ritenuta vantaggiosa per evitare un potenziale impatto negativo sulla qualità e sulla rappresentatività del modello, consentendo al modello di apprendere da frasi più informative e rappresentative del dominio linguistico di interesse. Questa strategia mira a migliorare la coerenza e l'efficacia del modello durante la fase di addestramento."
      ],
      "metadata": {
        "id": "5LSclllQbsfd"
      }
    },
    {
      "cell_type": "markdown",
      "source": [
        "Importo il tokenizzatore che useremo per fare l'embedding, in questo modo riusciremo a riconoscere gli \\<unk> effettivi"
      ],
      "metadata": {
        "id": "yCdusIJnWpEQ"
      }
    },
    {
      "cell_type": "code",
      "source": [
        "from transformers import AutoConfig, AutoModel, AutoTokenizer\n",
        "tokenizer = AutoTokenizer.from_pretrained(\"xlm-roberta-base\")"
      ],
      "metadata": {
        "id": "91bnghLiB2o9"
      },
      "execution_count": null,
      "outputs": []
    },
    {
      "cell_type": "code",
      "source": [
        "def remove_stopwords(text): # text = 'testo scritto tra virgolette'\n",
        "  tokens_list = nltk.word_tokenize(text, language='italian')\n",
        "  return ' '.join([word for word in tokens_list if not word.lower() in nltk.corpus.stopwords.words(\"italian\")])"
      ],
      "metadata": {
        "id": "iB9jqPXOWnID"
      },
      "execution_count": null,
      "outputs": []
    },
    {
      "cell_type": "code",
      "source": [
        "def sentence_tokenize(sentence):\n",
        "  tokens = tokenizer(sentence, add_special_tokens=True, return_tensors='pt', max_length = 512, truncation=True)\n",
        "  return tokenizer.convert_ids_to_tokens(tokens['input_ids'].squeeze(0))"
      ],
      "metadata": {
        "id": "cr4YzW2gBqFf"
      },
      "execution_count": null,
      "outputs": []
    },
    {
      "cell_type": "markdown",
      "source": [
        "Verifico la presenza di \\<unk> all'interno del dataset"
      ],
      "metadata": {
        "id": "OX-Fhcg5MUw1"
      }
    },
    {
      "cell_type": "code",
      "source": [
        "import re\n",
        "\n",
        "count_unk = 0\n",
        "\n",
        "for commento in tqdm(df['comment_text']):\n",
        "  #rimuovo ritorni a capo\n",
        "  commento = commento.replace('\\n\\n', '').replace('\\n', '').replace('\\r', '')\n",
        "  # Aggiungo uno spazio dopo ogni apice, poichè si è notato che altrimenti viene tokenizzato male\n",
        "  commento = commento.replace(\"'\", \"' \").replace('\"', '\" ')\n",
        "  #Rimuovo le stopwords\n",
        "  commento = remove_stopwords(commento)\n",
        "\n",
        "  list_sentence_tokenize = sentence_tokenize(commento)\n",
        "\n",
        "  for element in list_sentence_tokenize:\n",
        "    if element == \"<unk>\":\n",
        "      count_unk += 1\n",
        "\n",
        "print(\"\\nNumero totale di <unk>: \", count_unk)\n"
      ],
      "metadata": {
        "colab": {
          "base_uri": "https://localhost:8080/"
        },
        "id": "aql-G46-_pCn",
        "outputId": "ce69c062-d7eb-4411-a2c1-17d965d59209"
      },
      "execution_count": null,
      "outputs": [
        {
          "output_type": "stream",
          "name": "stderr",
          "text": [
            "100%|██████████| 1842/1842 [00:29<00:00, 62.20it/s]"
          ]
        },
        {
          "output_type": "stream",
          "name": "stdout",
          "text": [
            "\n",
            "Numero totale di <unk>:  203\n"
          ]
        },
        {
          "output_type": "stream",
          "name": "stderr",
          "text": [
            "\n"
          ]
        }
      ]
    },
    {
      "cell_type": "markdown",
      "source": [
        "Verifico quanti unk sono presenti a frase"
      ],
      "metadata": {
        "id": "F80O2vfyPEP9"
      }
    },
    {
      "cell_type": "code",
      "source": [
        "import re\n",
        "\n",
        "dict_sentence_unk = {}\n",
        "\n",
        "for indx, id, commento, cospiration in tqdm(df.itertuples()):\n",
        "  count_unk = 0\n",
        "\n",
        "  #rimuovo ritorni a capo\n",
        "  commento = commento.replace('\\n\\n', '').replace('\\n', '').replace('\\r', '')\n",
        "  # Aggiungo uno spazio dopo ogni apice, poichè si è notato che altrimenti viene tokenizzato male\n",
        "  commento = commento.replace(\"'\", \"' \").replace('\"', '\" ')\n",
        "  #Rimuovo le stopwords\n",
        "  commento = remove_stopwords(commento)\n",
        "\n",
        "  list_sentence_tokenize = sentence_tokenize(commento)\n",
        "\n",
        "  for element in list_sentence_tokenize:\n",
        "    if element == \"<unk>\":\n",
        "      count_unk += 1\n",
        "\n",
        "  dict_sentence_unk[id] = count_unk"
      ],
      "metadata": {
        "colab": {
          "base_uri": "https://localhost:8080/"
        },
        "id": "krHRE0mMAT21",
        "outputId": "3e2dfbc4-4fd1-43be-d32d-14b9fa6b792a"
      },
      "execution_count": null,
      "outputs": [
        {
          "output_type": "stream",
          "name": "stderr",
          "text": [
            "1842it [00:18, 99.31it/s] \n"
          ]
        }
      ]
    },
    {
      "cell_type": "code",
      "source": [
        "sorted_dict = dict(sorted(dict_sentence_unk.items(), key=lambda item: item[1], reverse=True))\n",
        "\n",
        "print(sorted_dict)"
      ],
      "metadata": {
        "colab": {
          "base_uri": "https://localhost:8080/"
        },
        "id": "8V5vKKNrQ0zT",
        "outputId": "2143d99a-5058-4905-e9a9-ada55af5b12a"
      },
      "execution_count": null,
      "outputs": [
        {
          "output_type": "stream",
          "name": "stdout",
          "text": [
            "{529: 5, 1650: 5, 179: 4, 728: 4, 987: 4, 1281: 4, 1361: 4, 55: 3, 62: 3, 117: 3, 526: 3, 619: 3, 678: 3, 788: 3, 849: 3, 874: 3, 887: 3, 931: 3, 962: 3, 1009: 3, 1049: 3, 1205: 3, 1322: 3, 1420: 3, 1508: 3, 1687: 3, 1698: 3, 1821: 3, 1: 2, 84: 2, 107: 2, 389: 2, 423: 2, 475: 2, 507: 2, 532: 2, 560: 2, 595: 2, 604: 2, 630: 2, 649: 2, 681: 2, 763: 2, 814: 2, 831: 2, 854: 2, 859: 2, 945: 2, 1070: 2, 1086: 2, 1142: 2, 1216: 2, 1250: 2, 1339: 2, 1464: 2, 1484: 2, 1496: 2, 1505: 2, 1512: 2, 1551: 2, 1566: 2, 1651: 2, 48: 1, 68: 1, 75: 1, 127: 1, 135: 1, 168: 1, 175: 1, 222: 1, 256: 1, 277: 1, 281: 1, 293: 1, 302: 1, 355: 1, 363: 1, 444: 1, 572: 1, 577: 1, 593: 1, 623: 1, 638: 1, 648: 1, 651: 1, 790: 1, 838: 1, 844: 1, 885: 1, 889: 1, 914: 1, 955: 1, 1148: 1, 1206: 1, 1222: 1, 1266: 1, 1279: 1, 1347: 1, 1381: 1, 1399: 1, 1421: 1, 1543: 1, 1720: 1, 1758: 1, 0: 0, 2: 0, 3: 0, 4: 0, 5: 0, 6: 0, 7: 0, 8: 0, 9: 0, 10: 0, 11: 0, 12: 0, 13: 0, 14: 0, 15: 0, 16: 0, 17: 0, 18: 0, 19: 0, 20: 0, 21: 0, 22: 0, 23: 0, 24: 0, 25: 0, 26: 0, 27: 0, 28: 0, 29: 0, 30: 0, 31: 0, 32: 0, 33: 0, 34: 0, 35: 0, 36: 0, 37: 0, 38: 0, 39: 0, 40: 0, 41: 0, 42: 0, 43: 0, 44: 0, 45: 0, 46: 0, 47: 0, 49: 0, 50: 0, 51: 0, 52: 0, 53: 0, 54: 0, 56: 0, 57: 0, 58: 0, 59: 0, 60: 0, 61: 0, 63: 0, 64: 0, 65: 0, 66: 0, 67: 0, 69: 0, 70: 0, 71: 0, 72: 0, 73: 0, 74: 0, 76: 0, 77: 0, 78: 0, 79: 0, 80: 0, 81: 0, 82: 0, 83: 0, 85: 0, 86: 0, 87: 0, 88: 0, 89: 0, 90: 0, 91: 0, 92: 0, 93: 0, 94: 0, 95: 0, 96: 0, 97: 0, 98: 0, 99: 0, 100: 0, 101: 0, 102: 0, 103: 0, 104: 0, 105: 0, 106: 0, 108: 0, 109: 0, 110: 0, 111: 0, 112: 0, 113: 0, 114: 0, 115: 0, 116: 0, 118: 0, 119: 0, 120: 0, 121: 0, 122: 0, 123: 0, 124: 0, 125: 0, 126: 0, 128: 0, 129: 0, 130: 0, 131: 0, 132: 0, 133: 0, 134: 0, 136: 0, 137: 0, 138: 0, 139: 0, 140: 0, 141: 0, 142: 0, 143: 0, 144: 0, 145: 0, 146: 0, 147: 0, 148: 0, 149: 0, 150: 0, 151: 0, 152: 0, 153: 0, 154: 0, 155: 0, 156: 0, 157: 0, 158: 0, 159: 0, 160: 0, 161: 0, 162: 0, 163: 0, 164: 0, 165: 0, 166: 0, 167: 0, 169: 0, 170: 0, 171: 0, 172: 0, 173: 0, 174: 0, 176: 0, 177: 0, 178: 0, 180: 0, 181: 0, 182: 0, 183: 0, 184: 0, 185: 0, 186: 0, 187: 0, 188: 0, 189: 0, 190: 0, 191: 0, 192: 0, 193: 0, 194: 0, 195: 0, 196: 0, 197: 0, 198: 0, 199: 0, 200: 0, 201: 0, 202: 0, 203: 0, 204: 0, 205: 0, 206: 0, 207: 0, 208: 0, 209: 0, 210: 0, 211: 0, 212: 0, 213: 0, 214: 0, 215: 0, 216: 0, 217: 0, 218: 0, 219: 0, 220: 0, 221: 0, 223: 0, 224: 0, 225: 0, 226: 0, 227: 0, 228: 0, 229: 0, 230: 0, 231: 0, 232: 0, 233: 0, 234: 0, 235: 0, 236: 0, 237: 0, 238: 0, 239: 0, 240: 0, 241: 0, 242: 0, 243: 0, 244: 0, 245: 0, 246: 0, 247: 0, 248: 0, 249: 0, 250: 0, 251: 0, 252: 0, 253: 0, 254: 0, 255: 0, 257: 0, 258: 0, 259: 0, 260: 0, 261: 0, 262: 0, 263: 0, 264: 0, 265: 0, 266: 0, 267: 0, 268: 0, 269: 0, 270: 0, 271: 0, 272: 0, 273: 0, 274: 0, 275: 0, 276: 0, 278: 0, 279: 0, 280: 0, 282: 0, 283: 0, 284: 0, 285: 0, 286: 0, 287: 0, 288: 0, 289: 0, 290: 0, 291: 0, 292: 0, 294: 0, 295: 0, 296: 0, 297: 0, 298: 0, 299: 0, 300: 0, 301: 0, 303: 0, 304: 0, 305: 0, 306: 0, 307: 0, 308: 0, 309: 0, 310: 0, 311: 0, 312: 0, 313: 0, 314: 0, 315: 0, 316: 0, 317: 0, 318: 0, 319: 0, 320: 0, 321: 0, 322: 0, 323: 0, 324: 0, 325: 0, 326: 0, 327: 0, 328: 0, 329: 0, 330: 0, 331: 0, 332: 0, 333: 0, 334: 0, 335: 0, 336: 0, 337: 0, 338: 0, 339: 0, 340: 0, 341: 0, 342: 0, 343: 0, 344: 0, 345: 0, 346: 0, 347: 0, 348: 0, 349: 0, 350: 0, 351: 0, 352: 0, 353: 0, 354: 0, 356: 0, 357: 0, 358: 0, 359: 0, 360: 0, 361: 0, 362: 0, 364: 0, 365: 0, 366: 0, 367: 0, 368: 0, 369: 0, 370: 0, 371: 0, 372: 0, 373: 0, 374: 0, 375: 0, 376: 0, 377: 0, 378: 0, 379: 0, 380: 0, 381: 0, 382: 0, 383: 0, 384: 0, 385: 0, 386: 0, 387: 0, 388: 0, 390: 0, 391: 0, 392: 0, 393: 0, 394: 0, 395: 0, 396: 0, 397: 0, 398: 0, 399: 0, 400: 0, 401: 0, 402: 0, 403: 0, 404: 0, 405: 0, 406: 0, 407: 0, 408: 0, 409: 0, 410: 0, 411: 0, 412: 0, 413: 0, 414: 0, 415: 0, 416: 0, 417: 0, 418: 0, 419: 0, 420: 0, 421: 0, 422: 0, 424: 0, 425: 0, 426: 0, 427: 0, 428: 0, 429: 0, 430: 0, 431: 0, 432: 0, 433: 0, 434: 0, 435: 0, 436: 0, 437: 0, 438: 0, 439: 0, 440: 0, 441: 0, 442: 0, 443: 0, 445: 0, 446: 0, 447: 0, 448: 0, 449: 0, 450: 0, 451: 0, 452: 0, 453: 0, 454: 0, 455: 0, 456: 0, 457: 0, 458: 0, 459: 0, 460: 0, 461: 0, 462: 0, 463: 0, 464: 0, 465: 0, 466: 0, 467: 0, 468: 0, 469: 0, 470: 0, 471: 0, 472: 0, 473: 0, 474: 0, 476: 0, 477: 0, 478: 0, 479: 0, 480: 0, 481: 0, 482: 0, 483: 0, 484: 0, 485: 0, 486: 0, 487: 0, 488: 0, 489: 0, 490: 0, 491: 0, 492: 0, 493: 0, 494: 0, 495: 0, 496: 0, 497: 0, 498: 0, 499: 0, 500: 0, 501: 0, 502: 0, 503: 0, 504: 0, 505: 0, 506: 0, 508: 0, 509: 0, 510: 0, 511: 0, 512: 0, 513: 0, 514: 0, 515: 0, 516: 0, 517: 0, 518: 0, 519: 0, 520: 0, 521: 0, 522: 0, 523: 0, 524: 0, 525: 0, 527: 0, 528: 0, 530: 0, 531: 0, 533: 0, 534: 0, 535: 0, 536: 0, 537: 0, 538: 0, 539: 0, 540: 0, 541: 0, 542: 0, 543: 0, 544: 0, 545: 0, 546: 0, 547: 0, 548: 0, 549: 0, 550: 0, 551: 0, 552: 0, 553: 0, 554: 0, 555: 0, 556: 0, 557: 0, 558: 0, 559: 0, 561: 0, 562: 0, 563: 0, 564: 0, 565: 0, 566: 0, 567: 0, 568: 0, 569: 0, 570: 0, 571: 0, 573: 0, 574: 0, 575: 0, 576: 0, 578: 0, 579: 0, 580: 0, 581: 0, 582: 0, 583: 0, 584: 0, 585: 0, 586: 0, 587: 0, 588: 0, 589: 0, 590: 0, 591: 0, 592: 0, 594: 0, 596: 0, 597: 0, 598: 0, 599: 0, 600: 0, 601: 0, 602: 0, 603: 0, 605: 0, 606: 0, 607: 0, 608: 0, 609: 0, 610: 0, 611: 0, 612: 0, 613: 0, 614: 0, 615: 0, 616: 0, 617: 0, 618: 0, 620: 0, 621: 0, 622: 0, 624: 0, 625: 0, 626: 0, 627: 0, 628: 0, 629: 0, 631: 0, 632: 0, 633: 0, 634: 0, 635: 0, 636: 0, 637: 0, 639: 0, 640: 0, 641: 0, 642: 0, 643: 0, 644: 0, 645: 0, 646: 0, 647: 0, 650: 0, 652: 0, 653: 0, 654: 0, 655: 0, 656: 0, 657: 0, 658: 0, 659: 0, 660: 0, 661: 0, 662: 0, 663: 0, 664: 0, 665: 0, 666: 0, 667: 0, 668: 0, 669: 0, 670: 0, 671: 0, 672: 0, 673: 0, 674: 0, 675: 0, 676: 0, 677: 0, 679: 0, 680: 0, 682: 0, 683: 0, 684: 0, 685: 0, 686: 0, 687: 0, 688: 0, 689: 0, 690: 0, 691: 0, 692: 0, 693: 0, 694: 0, 695: 0, 696: 0, 697: 0, 698: 0, 699: 0, 700: 0, 701: 0, 702: 0, 703: 0, 704: 0, 705: 0, 706: 0, 707: 0, 708: 0, 709: 0, 710: 0, 711: 0, 712: 0, 713: 0, 714: 0, 715: 0, 716: 0, 717: 0, 718: 0, 719: 0, 720: 0, 721: 0, 722: 0, 723: 0, 724: 0, 725: 0, 726: 0, 727: 0, 729: 0, 730: 0, 731: 0, 732: 0, 733: 0, 734: 0, 735: 0, 736: 0, 737: 0, 738: 0, 739: 0, 740: 0, 741: 0, 742: 0, 743: 0, 744: 0, 745: 0, 746: 0, 747: 0, 748: 0, 749: 0, 750: 0, 751: 0, 752: 0, 753: 0, 754: 0, 755: 0, 756: 0, 757: 0, 758: 0, 759: 0, 760: 0, 761: 0, 762: 0, 764: 0, 765: 0, 766: 0, 767: 0, 768: 0, 769: 0, 770: 0, 771: 0, 772: 0, 773: 0, 774: 0, 775: 0, 776: 0, 777: 0, 778: 0, 779: 0, 780: 0, 781: 0, 782: 0, 783: 0, 784: 0, 785: 0, 786: 0, 787: 0, 789: 0, 791: 0, 792: 0, 793: 0, 794: 0, 795: 0, 796: 0, 797: 0, 798: 0, 799: 0, 800: 0, 801: 0, 802: 0, 803: 0, 804: 0, 805: 0, 806: 0, 807: 0, 808: 0, 809: 0, 810: 0, 811: 0, 812: 0, 813: 0, 815: 0, 816: 0, 817: 0, 818: 0, 819: 0, 820: 0, 821: 0, 822: 0, 823: 0, 824: 0, 825: 0, 826: 0, 827: 0, 828: 0, 829: 0, 830: 0, 832: 0, 833: 0, 834: 0, 835: 0, 836: 0, 837: 0, 839: 0, 840: 0, 841: 0, 842: 0, 843: 0, 845: 0, 846: 0, 847: 0, 848: 0, 850: 0, 851: 0, 852: 0, 853: 0, 855: 0, 856: 0, 857: 0, 858: 0, 860: 0, 861: 0, 862: 0, 863: 0, 864: 0, 865: 0, 866: 0, 867: 0, 868: 0, 869: 0, 870: 0, 871: 0, 872: 0, 873: 0, 875: 0, 876: 0, 877: 0, 878: 0, 879: 0, 880: 0, 881: 0, 882: 0, 883: 0, 884: 0, 886: 0, 888: 0, 890: 0, 891: 0, 892: 0, 893: 0, 894: 0, 895: 0, 896: 0, 897: 0, 898: 0, 899: 0, 900: 0, 901: 0, 902: 0, 903: 0, 904: 0, 905: 0, 906: 0, 907: 0, 908: 0, 909: 0, 910: 0, 911: 0, 912: 0, 913: 0, 915: 0, 916: 0, 917: 0, 918: 0, 919: 0, 920: 0, 921: 0, 922: 0, 923: 0, 924: 0, 925: 0, 926: 0, 927: 0, 928: 0, 929: 0, 930: 0, 932: 0, 933: 0, 934: 0, 935: 0, 936: 0, 937: 0, 938: 0, 939: 0, 940: 0, 941: 0, 942: 0, 943: 0, 944: 0, 946: 0, 947: 0, 948: 0, 949: 0, 950: 0, 951: 0, 952: 0, 953: 0, 954: 0, 956: 0, 957: 0, 958: 0, 959: 0, 960: 0, 961: 0, 963: 0, 964: 0, 965: 0, 966: 0, 967: 0, 968: 0, 969: 0, 970: 0, 971: 0, 972: 0, 973: 0, 974: 0, 975: 0, 976: 0, 977: 0, 978: 0, 979: 0, 980: 0, 981: 0, 982: 0, 983: 0, 984: 0, 985: 0, 986: 0, 988: 0, 989: 0, 990: 0, 991: 0, 992: 0, 993: 0, 994: 0, 995: 0, 996: 0, 997: 0, 998: 0, 999: 0, 1000: 0, 1001: 0, 1002: 0, 1003: 0, 1004: 0, 1005: 0, 1006: 0, 1007: 0, 1008: 0, 1010: 0, 1011: 0, 1012: 0, 1013: 0, 1014: 0, 1015: 0, 1016: 0, 1017: 0, 1018: 0, 1019: 0, 1020: 0, 1021: 0, 1022: 0, 1023: 0, 1024: 0, 1025: 0, 1026: 0, 1027: 0, 1028: 0, 1029: 0, 1030: 0, 1031: 0, 1032: 0, 1033: 0, 1034: 0, 1035: 0, 1036: 0, 1037: 0, 1038: 0, 1039: 0, 1040: 0, 1041: 0, 1042: 0, 1043: 0, 1044: 0, 1045: 0, 1046: 0, 1047: 0, 1048: 0, 1050: 0, 1051: 0, 1052: 0, 1053: 0, 1054: 0, 1055: 0, 1056: 0, 1057: 0, 1058: 0, 1059: 0, 1060: 0, 1061: 0, 1062: 0, 1063: 0, 1064: 0, 1065: 0, 1066: 0, 1067: 0, 1068: 0, 1069: 0, 1071: 0, 1072: 0, 1073: 0, 1074: 0, 1075: 0, 1076: 0, 1077: 0, 1078: 0, 1079: 0, 1080: 0, 1081: 0, 1082: 0, 1083: 0, 1084: 0, 1085: 0, 1087: 0, 1088: 0, 1089: 0, 1090: 0, 1091: 0, 1092: 0, 1093: 0, 1094: 0, 1095: 0, 1096: 0, 1097: 0, 1098: 0, 1099: 0, 1100: 0, 1101: 0, 1102: 0, 1103: 0, 1104: 0, 1105: 0, 1106: 0, 1107: 0, 1108: 0, 1109: 0, 1110: 0, 1111: 0, 1112: 0, 1113: 0, 1114: 0, 1115: 0, 1116: 0, 1117: 0, 1118: 0, 1119: 0, 1120: 0, 1121: 0, 1122: 0, 1123: 0, 1124: 0, 1125: 0, 1126: 0, 1127: 0, 1128: 0, 1129: 0, 1130: 0, 1131: 0, 1132: 0, 1133: 0, 1134: 0, 1135: 0, 1136: 0, 1137: 0, 1138: 0, 1139: 0, 1140: 0, 1141: 0, 1143: 0, 1144: 0, 1145: 0, 1146: 0, 1147: 0, 1149: 0, 1150: 0, 1151: 0, 1152: 0, 1153: 0, 1154: 0, 1155: 0, 1156: 0, 1157: 0, 1158: 0, 1159: 0, 1160: 0, 1161: 0, 1162: 0, 1163: 0, 1164: 0, 1165: 0, 1166: 0, 1167: 0, 1168: 0, 1169: 0, 1170: 0, 1171: 0, 1172: 0, 1173: 0, 1174: 0, 1175: 0, 1176: 0, 1177: 0, 1178: 0, 1179: 0, 1180: 0, 1181: 0, 1182: 0, 1183: 0, 1184: 0, 1185: 0, 1186: 0, 1187: 0, 1188: 0, 1189: 0, 1190: 0, 1191: 0, 1192: 0, 1193: 0, 1194: 0, 1195: 0, 1196: 0, 1197: 0, 1198: 0, 1199: 0, 1200: 0, 1201: 0, 1202: 0, 1203: 0, 1204: 0, 1207: 0, 1208: 0, 1209: 0, 1210: 0, 1211: 0, 1212: 0, 1213: 0, 1214: 0, 1215: 0, 1217: 0, 1218: 0, 1219: 0, 1220: 0, 1221: 0, 1223: 0, 1224: 0, 1225: 0, 1226: 0, 1227: 0, 1228: 0, 1229: 0, 1230: 0, 1231: 0, 1232: 0, 1233: 0, 1234: 0, 1235: 0, 1236: 0, 1237: 0, 1238: 0, 1239: 0, 1240: 0, 1241: 0, 1242: 0, 1243: 0, 1244: 0, 1245: 0, 1246: 0, 1247: 0, 1248: 0, 1249: 0, 1251: 0, 1252: 0, 1253: 0, 1254: 0, 1255: 0, 1256: 0, 1257: 0, 1258: 0, 1259: 0, 1260: 0, 1261: 0, 1262: 0, 1263: 0, 1264: 0, 1265: 0, 1267: 0, 1268: 0, 1269: 0, 1270: 0, 1271: 0, 1272: 0, 1273: 0, 1274: 0, 1275: 0, 1276: 0, 1277: 0, 1278: 0, 1280: 0, 1282: 0, 1283: 0, 1284: 0, 1285: 0, 1286: 0, 1287: 0, 1288: 0, 1289: 0, 1290: 0, 1291: 0, 1292: 0, 1293: 0, 1294: 0, 1295: 0, 1296: 0, 1297: 0, 1298: 0, 1299: 0, 1300: 0, 1301: 0, 1302: 0, 1303: 0, 1304: 0, 1305: 0, 1306: 0, 1307: 0, 1308: 0, 1309: 0, 1310: 0, 1311: 0, 1312: 0, 1313: 0, 1314: 0, 1315: 0, 1316: 0, 1317: 0, 1318: 0, 1319: 0, 1320: 0, 1321: 0, 1323: 0, 1324: 0, 1325: 0, 1326: 0, 1327: 0, 1328: 0, 1329: 0, 1330: 0, 1331: 0, 1332: 0, 1333: 0, 1334: 0, 1335: 0, 1336: 0, 1337: 0, 1338: 0, 1340: 0, 1341: 0, 1342: 0, 1343: 0, 1344: 0, 1345: 0, 1346: 0, 1348: 0, 1349: 0, 1350: 0, 1351: 0, 1352: 0, 1353: 0, 1354: 0, 1355: 0, 1356: 0, 1357: 0, 1358: 0, 1359: 0, 1360: 0, 1362: 0, 1363: 0, 1364: 0, 1365: 0, 1366: 0, 1367: 0, 1368: 0, 1369: 0, 1370: 0, 1371: 0, 1372: 0, 1373: 0, 1374: 0, 1375: 0, 1376: 0, 1377: 0, 1378: 0, 1379: 0, 1380: 0, 1382: 0, 1383: 0, 1384: 0, 1385: 0, 1386: 0, 1387: 0, 1388: 0, 1389: 0, 1390: 0, 1391: 0, 1392: 0, 1393: 0, 1394: 0, 1395: 0, 1396: 0, 1397: 0, 1398: 0, 1400: 0, 1401: 0, 1402: 0, 1403: 0, 1404: 0, 1405: 0, 1406: 0, 1407: 0, 1408: 0, 1409: 0, 1410: 0, 1411: 0, 1412: 0, 1413: 0, 1414: 0, 1415: 0, 1416: 0, 1417: 0, 1418: 0, 1419: 0, 1422: 0, 1423: 0, 1424: 0, 1425: 0, 1426: 0, 1427: 0, 1428: 0, 1429: 0, 1430: 0, 1431: 0, 1432: 0, 1433: 0, 1434: 0, 1435: 0, 1436: 0, 1437: 0, 1438: 0, 1439: 0, 1440: 0, 1441: 0, 1442: 0, 1443: 0, 1444: 0, 1445: 0, 1446: 0, 1447: 0, 1448: 0, 1449: 0, 1450: 0, 1451: 0, 1452: 0, 1453: 0, 1454: 0, 1455: 0, 1456: 0, 1457: 0, 1458: 0, 1459: 0, 1460: 0, 1461: 0, 1462: 0, 1463: 0, 1465: 0, 1466: 0, 1467: 0, 1468: 0, 1469: 0, 1470: 0, 1471: 0, 1472: 0, 1473: 0, 1474: 0, 1475: 0, 1476: 0, 1477: 0, 1478: 0, 1479: 0, 1480: 0, 1481: 0, 1482: 0, 1483: 0, 1485: 0, 1486: 0, 1487: 0, 1488: 0, 1489: 0, 1490: 0, 1491: 0, 1492: 0, 1493: 0, 1494: 0, 1495: 0, 1497: 0, 1498: 0, 1499: 0, 1500: 0, 1501: 0, 1502: 0, 1503: 0, 1504: 0, 1506: 0, 1507: 0, 1509: 0, 1510: 0, 1511: 0, 1513: 0, 1514: 0, 1515: 0, 1516: 0, 1517: 0, 1518: 0, 1519: 0, 1520: 0, 1521: 0, 1522: 0, 1523: 0, 1524: 0, 1525: 0, 1526: 0, 1527: 0, 1528: 0, 1529: 0, 1530: 0, 1531: 0, 1532: 0, 1533: 0, 1534: 0, 1535: 0, 1536: 0, 1537: 0, 1538: 0, 1539: 0, 1540: 0, 1541: 0, 1542: 0, 1544: 0, 1545: 0, 1546: 0, 1547: 0, 1548: 0, 1549: 0, 1550: 0, 1552: 0, 1553: 0, 1554: 0, 1555: 0, 1556: 0, 1557: 0, 1558: 0, 1559: 0, 1560: 0, 1561: 0, 1562: 0, 1563: 0, 1564: 0, 1565: 0, 1567: 0, 1568: 0, 1569: 0, 1570: 0, 1571: 0, 1572: 0, 1573: 0, 1574: 0, 1575: 0, 1576: 0, 1577: 0, 1578: 0, 1579: 0, 1580: 0, 1581: 0, 1582: 0, 1583: 0, 1584: 0, 1585: 0, 1586: 0, 1587: 0, 1588: 0, 1589: 0, 1590: 0, 1591: 0, 1592: 0, 1593: 0, 1594: 0, 1595: 0, 1596: 0, 1597: 0, 1598: 0, 1599: 0, 1600: 0, 1601: 0, 1602: 0, 1603: 0, 1604: 0, 1605: 0, 1606: 0, 1607: 0, 1608: 0, 1609: 0, 1610: 0, 1611: 0, 1612: 0, 1613: 0, 1614: 0, 1615: 0, 1616: 0, 1617: 0, 1618: 0, 1619: 0, 1620: 0, 1621: 0, 1622: 0, 1623: 0, 1624: 0, 1625: 0, 1626: 0, 1627: 0, 1628: 0, 1629: 0, 1630: 0, 1631: 0, 1632: 0, 1633: 0, 1634: 0, 1635: 0, 1636: 0, 1637: 0, 1638: 0, 1639: 0, 1640: 0, 1641: 0, 1642: 0, 1643: 0, 1644: 0, 1645: 0, 1646: 0, 1647: 0, 1648: 0, 1649: 0, 1652: 0, 1653: 0, 1654: 0, 1655: 0, 1656: 0, 1657: 0, 1658: 0, 1659: 0, 1660: 0, 1661: 0, 1662: 0, 1663: 0, 1664: 0, 1665: 0, 1666: 0, 1667: 0, 1668: 0, 1669: 0, 1670: 0, 1671: 0, 1672: 0, 1673: 0, 1674: 0, 1675: 0, 1676: 0, 1677: 0, 1678: 0, 1679: 0, 1680: 0, 1681: 0, 1682: 0, 1683: 0, 1684: 0, 1685: 0, 1686: 0, 1688: 0, 1689: 0, 1690: 0, 1691: 0, 1692: 0, 1693: 0, 1694: 0, 1695: 0, 1696: 0, 1697: 0, 1699: 0, 1700: 0, 1701: 0, 1702: 0, 1703: 0, 1704: 0, 1705: 0, 1706: 0, 1707: 0, 1708: 0, 1709: 0, 1710: 0, 1711: 0, 1712: 0, 1713: 0, 1714: 0, 1715: 0, 1716: 0, 1717: 0, 1718: 0, 1719: 0, 1721: 0, 1722: 0, 1723: 0, 1724: 0, 1725: 0, 1726: 0, 1727: 0, 1728: 0, 1729: 0, 1730: 0, 1731: 0, 1732: 0, 1733: 0, 1734: 0, 1735: 0, 1736: 0, 1737: 0, 1738: 0, 1739: 0, 1740: 0, 1741: 0, 1742: 0, 1743: 0, 1744: 0, 1745: 0, 1746: 0, 1747: 0, 1748: 0, 1749: 0, 1750: 0, 1751: 0, 1752: 0, 1753: 0, 1754: 0, 1755: 0, 1756: 0, 1757: 0, 1759: 0, 1760: 0, 1761: 0, 1762: 0, 1763: 0, 1764: 0, 1765: 0, 1766: 0, 1767: 0, 1768: 0, 1769: 0, 1770: 0, 1771: 0, 1772: 0, 1773: 0, 1774: 0, 1775: 0, 1776: 0, 1777: 0, 1778: 0, 1779: 0, 1780: 0, 1781: 0, 1782: 0, 1783: 0, 1784: 0, 1785: 0, 1786: 0, 1787: 0, 1788: 0, 1789: 0, 1790: 0, 1791: 0, 1792: 0, 1793: 0, 1794: 0, 1795: 0, 1796: 0, 1797: 0, 1798: 0, 1799: 0, 1800: 0, 1801: 0, 1802: 0, 1803: 0, 1804: 0, 1805: 0, 1806: 0, 1807: 0, 1808: 0, 1809: 0, 1810: 0, 1811: 0, 1812: 0, 1813: 0, 1814: 0, 1815: 0, 1816: 0, 1817: 0, 1818: 0, 1819: 0, 1820: 0, 1822: 0, 1823: 0, 1824: 0, 1825: 0, 1826: 0, 1827: 0, 1828: 0, 1829: 0, 1830: 0, 1831: 0, 1832: 0, 1833: 0, 1834: 0, 1835: 0, 1836: 0, 1837: 0, 1838: 0, 1839: 0, 1840: 0, 1841: 0}\n"
          ]
        }
      ]
    },
    {
      "cell_type": "markdown",
      "source": [
        "Verifico in quante frasi sono presenti i tag \\<unk>"
      ],
      "metadata": {
        "id": "CDK9o7mmcPSV"
      }
    },
    {
      "cell_type": "code",
      "source": [
        "# Inizializza il contatore\n",
        "count_non_zero = 0\n",
        "\n",
        "# Ciclo per contare gli elementi con valore diverso da 0\n",
        "for value in sorted_dict.values():\n",
        "  if value != 0:\n",
        "      count_non_zero += 1\n",
        "  else: break\n",
        "\n",
        "# Stampa il risultato\n",
        "print(\"Numero di elementi con valore diverso da 0:\", count_non_zero)"
      ],
      "metadata": {
        "colab": {
          "base_uri": "https://localhost:8080/"
        },
        "id": "dJlr8WzeS7z1",
        "outputId": "afea0c05-31f2-4fd7-911d-02ba54f24511"
      },
      "execution_count": null,
      "outputs": [
        {
          "output_type": "stream",
          "name": "stdout",
          "text": [
            "Numero di elementi con valore diverso da 0: 104\n"
          ]
        }
      ]
    },
    {
      "cell_type": "markdown",
      "source": [
        "Considerato che solo 104 frasi presentano parole non riconosciute durante la fase di embedding si è deciso di rimuoverle"
      ],
      "metadata": {
        "id": "bq8sowQES5KE"
      }
    },
    {
      "cell_type": "code",
      "source": [
        "sorted_dict = {chiave: valore for chiave, valore in sorted_dict.items() if valore != 0}\n",
        "\n",
        "# Crea una lista delle chiavi del dizionario\n",
        "indici_da_rimuovere = list(sorted_dict.keys())\n",
        "\n",
        "# Rimuve gli elementi del dataframe che presentano gli <unk>\n",
        "df = df.drop(indici_da_rimuovere)"
      ],
      "metadata": {
        "id": "5s5m0mZjTC7k"
      },
      "execution_count": null,
      "outputs": []
    },
    {
      "cell_type": "markdown",
      "source": [
        "## Data Augmentation sul dataset di **train**"
      ],
      "metadata": {
        "id": "b-I3IO0i1eWl"
      }
    },
    {
      "cell_type": "markdown",
      "source": [
        "In quetsa parte si divide il dataset in tre insiemi: training, validation e test utilizzando la funzione train_test_split.\n",
        "Inizialmente, il dataset è suddiviso in insiemi di training e test, con il 20% dei dati destinati al test.\n",
        "Successivamente, l'insieme di training è ulteriormente suddiviso in training e validation, con il 10% dei dati destinati alla validazione. L'utilizzo del parametro **random_state=42** garantisce che la divisione sia riproducibile. Gli insiemi risultanti sono** x_train, y_train** per il training, **x_val, y_val** per la validazione e **x_test, y_test** per il test."
      ],
      "metadata": {
        "id": "iZ4MIB4tpG5R"
      }
    },
    {
      "cell_type": "code",
      "execution_count": 11,
      "metadata": {
        "id": "7s8SLsJBBTCf"
      },
      "outputs": [],
      "source": [
        "# creo train, val e test\n",
        "(x_train, x_test, y_train, y_test) = train_test_split(df['comment_text'], df['conspiratorial'], test_size=0.2, stratify=df['conspiratorial'], random_state=42)\n",
        "(x_train, x_val, y_train, y_val) = train_test_split( x_train, y_train, test_size=0.1, random_state=42)"
      ]
    },
    {
      "cell_type": "code",
      "source": [
        "from transformers import pipeline\n",
        "\n",
        "# Impostazione del percorso del nuovo file CSV\n",
        "percorso_file_dataAug = root + \"data/taskA/train_dataset_Aug.csv\"\n",
        "\n",
        "# Creazione di un nuovo DataFrame vuoto\n",
        "train_dataset_Aug = pd.DataFrame()\n",
        "\n",
        "# Inizializzazione del modulo per l'unmasking\n",
        "unmasker = pipeline('fill-mask', model='xlm-roberta-base')\n",
        "\n",
        "# Limita il numero di token da considerare\n",
        "limite_massimo = 512\n",
        "numero_minimo_token = 3"
      ],
      "metadata": {
        "id": "flLZM26K7HQB"
      },
      "execution_count": null,
      "outputs": []
    },
    {
      "cell_type": "code",
      "source": [
        "def remove_stopwords(text): # text = 'testo scritto tra virgolette'\n",
        "  tokens_list = nltk.word_tokenize(text, language='italian')\n",
        "  return ' '.join([word for word in tokens_list if not word.lower() in nltk.corpus.stopwords.words(\"italian\")])"
      ],
      "metadata": {
        "id": "_j2t2zxLZ4E8"
      },
      "execution_count": 13,
      "outputs": []
    },
    {
      "cell_type": "code",
      "source": [
        "from nltk.tokenize import TweetTokenizer\n",
        "\n",
        "# Create a reference variable for Class TweetTokenizer\n",
        "tk = TweetTokenizer()\n",
        "\n",
        "def gen_mask_sentence(sentence):\n",
        "\n",
        "  tokenized_result = tk.tokenize(sentence)\n",
        "\n",
        "  _tokenized_result = tokenized_result[:512]\n",
        "\n",
        "  #genero la maschera, il while mi permette di sostituire solo elementi che siano parole\n",
        "  rand_idx = random.randint(0, len(_tokenized_result) - 1)\n",
        "\n",
        "  flag = 0\n",
        "\n",
        "  while not _tokenized_result[rand_idx].isalpha() and flag < 100:\n",
        "    rand_idx = random.randint(0, len(_tokenized_result) - 1)\n",
        "    flag += 1\n",
        "\n",
        "  _tokenized_result[rand_idx] = '<mask>'\n",
        "\n",
        "  return ' '.join(_tokenized_result)"
      ],
      "metadata": {
        "id": "puY95_mnHLUd"
      },
      "execution_count": 14,
      "outputs": []
    },
    {
      "cell_type": "code",
      "source": [
        "x_train = x_train.sort_index()\n",
        "y_train = y_train.sort_index()\n",
        "\n",
        "x_train.index"
      ],
      "metadata": {
        "colab": {
          "base_uri": "https://localhost:8080/"
        },
        "id": "_bl6Z7gcZMuK",
        "outputId": "cbbd3b9c-7178-47d6-cbfe-940c400e0784"
      },
      "execution_count": 15,
      "outputs": [
        {
          "output_type": "execute_result",
          "data": {
            "text/plain": [
              "Int64Index([   0,    1,    2,    3,    4,    5,    7,    8,   10,   11,\n",
              "            ...\n",
              "            1828, 1831, 1833, 1834, 1836, 1837, 1838, 1839, 1840, 1841],\n",
              "           dtype='int64', length=1325)"
            ]
          },
          "metadata": {},
          "execution_count": 15
        }
      ]
    },
    {
      "cell_type": "markdown",
      "source": [
        "Inizio della fase di Data Augmentation solo sul dataset di train.\n",
        "\n",
        "Viene eseguita quindi la fase di \"Data Augmentation\" sul set di addestramento x_train, splittato precedentemente e differenziato quindi dai dataset di validation/test.  In particolare, viene verificata la lunghezza minima dei token , se la lunghezza dei token è minore a 3, allora il commento non verrà mascherato , altrimenti, viene utilizzato l'unmasker con xlm-roberta-base e verrà mascherato un solo token. Il nuovo commento viene aggiunto in coda al commento originale e verrà memorizzato nel dataframe prima inizializzato"
      ],
      "metadata": {
        "id": "Jnwe8QEWcjtw"
      }
    },
    {
      "cell_type": "code",
      "source": [
        "import re\n",
        "import random\n",
        "\n",
        "for commento, conspiratorial in zip(x_train, y_train):\n",
        "\n",
        "  #rimuovo ritorni a capo\n",
        "  commento = commento.replace('\\n\\n', '').replace('\\n', '').replace('\\r', '')\n",
        "\n",
        "  # Aggiungo uno spazio dopo ogni apice, poichè si è notato che altrimenti viene tokenizzato male\n",
        "  commento = commento.replace(\"'\", \"' \").replace('\"', '\" ')\n",
        "\n",
        "  #Rimuovo le stopwords\n",
        "  commento = remove_stopwords(commento)\n",
        "\n",
        "  # Masking di una word nella frase\n",
        "  commento_with_mask = gen_mask_sentence(commento)\n",
        "\n",
        "  # Verifica la lunghezza minima dei token\n",
        "  if len(tk.tokenize(commento)) < numero_minimo_token:\n",
        "    record = {'comment_text': commento, 'conspiratorial': conspiratorial}\n",
        "    train_dataset_Aug = pd.concat([train_dataset_Aug, pd.DataFrame([record])], ignore_index=True)\n",
        "\n",
        "  else:\n",
        "    try:\n",
        "      new_commento = unmasker(commento_with_mask, tokenizer_kwargs={\"truncation\": True})\n",
        "\n",
        "      record = {'comment_text': commento, 'conspiratorial': conspiratorial}\n",
        "      train_dataset_Aug = pd.concat([train_dataset_Aug, pd.DataFrame([record])], ignore_index=True)\n",
        "\n",
        "      record = {'comment_text': new_commento[0]['sequence'], 'conspiratorial': conspiratorial}\n",
        "      train_dataset_Aug = pd.concat([train_dataset_Aug, pd.DataFrame([record])], ignore_index=True)\n",
        "\n",
        "    except Exception as e:\n",
        "\n",
        "      print(f\"\\nErrore: {e}\")\n",
        "      record = {'comment_text': commento, 'conspiratorial': conspiratorial}\n",
        "      train_dataset_Aug = pd.concat([train_dataset_Aug, pd.DataFrame([record])], ignore_index=True)\n",
        "\n",
        "# Memorizzo sul drive il dataset di train aumentato\n",
        "train_dataset_Aug.to_csv(percorso_file_dataAug, index=False)"
      ],
      "metadata": {
        "id": "vKPDAuprXO0z"
      },
      "execution_count": 16,
      "outputs": []
    },
    {
      "cell_type": "markdown",
      "source": [
        "Memorizzo sul drive i dataset di validation e test"
      ],
      "metadata": {
        "id": "nsW2desbcAKg"
      }
    },
    {
      "cell_type": "code",
      "source": [
        "x_val = x_val.sort_index()\n",
        "y_val = y_val.sort_index()\n",
        "\n",
        "percorso_file_validation = root + \"data/taskA/validation_dataset.csv\"\n",
        "validation_dataset = pd.DataFrame()\n",
        "\n",
        "validation_dataset = pd.concat([validation_dataset, pd.DataFrame({'comment_text': x_val, 'conspiratorial': y_val})], ignore_index=True)\n",
        "\n",
        "validation_dataset.to_csv(percorso_file_validation, index=False)"
      ],
      "metadata": {
        "id": "F9CP0kHvb_2v"
      },
      "execution_count": 17,
      "outputs": []
    },
    {
      "cell_type": "code",
      "source": [
        "x_test = x_test.sort_index()\n",
        "y_test = y_test.sort_index()\n",
        "\n",
        "percorso_file_test = root + \"data/taskA/test_dataset.csv\"\n",
        "test_dataset = pd.DataFrame()\n",
        "\n",
        "test_dataset = pd.concat([test_dataset, pd.DataFrame({'comment_text': x_test, 'conspiratorial': y_test})], ignore_index=True)\n",
        "\n",
        "test_dataset.to_csv(percorso_file_test, index=False)"
      ],
      "metadata": {
        "id": "eEtgtP3NchSg"
      },
      "execution_count": 18,
      "outputs": []
    },
    {
      "cell_type": "markdown",
      "source": [
        "# Definizione classe Dataset"
      ],
      "metadata": {
        "id": "5e-hAPh43RT-"
      }
    },
    {
      "cell_type": "markdown",
      "source": [
        "Verranno effettuate operazioni di rimozione delle stopwords tramite \"nltk.word_tokenize\"\n",
        "ed il conteggio degli UpperCase"
      ],
      "metadata": {
        "id": "ZdKkvi40NokE"
      }
    },
    {
      "cell_type": "code",
      "execution_count": 19,
      "metadata": {
        "id": "Ub_NaNn0ut-r"
      },
      "outputs": [],
      "source": [
        "def remove_stopwords(text):\n",
        "  tokens_list = nltk.word_tokenize(text, language='italian')\n",
        "  return ' '.join([word for word in tokens_list if not word.lower() in nltk.corpus.stopwords.words(\"italian\")])"
      ]
    },
    {
      "cell_type": "markdown",
      "source": [
        "Funzione che conta le parole che sono del tutto in maiuscolo. Si evince che le parole scritte del tutto in maiuscolo vengono scritte per enfatizzare un concetto con tono \"duro\", ad esempio in frasi cospirazioniste."
      ],
      "metadata": {
        "id": "DzU2WZygisNz"
      }
    },
    {
      "cell_type": "code",
      "execution_count": 20,
      "metadata": {
        "id": "J1W4sehXCJfe"
      },
      "outputs": [],
      "source": [
        "import re\n",
        "\n",
        "def count_uppercase_words(sentence):\n",
        "    words = re.findall(r'\\b[A-Z]+\\b', sentence)\n",
        "    return len(words)\n",
        "\n",
        "def count_words(sentence):\n",
        "    # Rimuovi la punteggiatura dalla frase\n",
        "    sentence_without_punctuation = re.sub(r'[^\\w\\s]', '', sentence)\n",
        "\n",
        "    # Dividi la frase in parole\n",
        "    words = sentence_without_punctuation.split()\n",
        "\n",
        "    # Restituisci il numero totale di parole\n",
        "    return len(words)"
      ]
    },
    {
      "cell_type": "markdown",
      "source": [
        "In questa parte tramite la funzione gen_embeddings, vengono generati gli embedding cioè delle rappresentazioni vettoriali di testi o parole che verranno utilizzati in seguito nel dal modello come metodo di apprendimento del testo.\n",
        "Il modello genera una rappresentazione vettoriale tramite la funzione gen_embeddings() che prende come input il \"commento\" (tokenizzato) e una maschera di attenzione (attention mask) che indica quali token sono rilevanti per il contesto.\n",
        "il modello genera per ogni token una rappresentazione vettoriale che viene salvata in un tensore denominato last_hidden_states (((che poi potrà in seguito essere usato come classificatore del testo))))"
      ],
      "metadata": {
        "id": "kG500OgiNujq"
      }
    },
    {
      "cell_type": "code",
      "execution_count": 21,
      "metadata": {
        "id": "5Y5h_0QlUfuY"
      },
      "outputs": [],
      "source": [
        "def gen_embeddings(input_id_text, attention_mask):\n",
        "  with torch.no_grad():\n",
        "    last_hidden_states = lm_model(input_id_text, attention_mask=attention_mask).last_hidden_state\n",
        "    last_hidden_states = last_hidden_states[:,0,:].squeeze(0)\n",
        "\n",
        "  return last_hidden_states"
      ]
    },
    {
      "cell_type": "markdown",
      "source": [
        "Classe My Dataset personalizzata. La classe accetta in input x, colonna \"comment_text\" e le labels, \"conspiracy\". per ogni commento, nella colonna comment_text, vengono rimosse le stopword, ed eliminati i ritorno a capo.\n",
        "Viene calcolato inoltre il rapporto tra le parole maiuscole e il numero totale di parole in ogni frase normalizzato per la lunghezza della frase. Il numero di parole maiuscolo viene aggiunto quindi come feature aggiuntiva al dataset."
      ],
      "metadata": {
        "id": "hvODbTuTjfVA"
      }
    },
    {
      "cell_type": "code",
      "execution_count": 22,
      "metadata": {
        "id": "_b4lnN2cECjh"
      },
      "outputs": [],
      "source": [
        "class MyDataset(torch.utils.data.Dataset):\n",
        "\n",
        "  def __init__(self, x, y, stopwords):\n",
        "    #rimuovo ritorni a capo\n",
        "    x = [text.replace('\\n\\n', '').replace('\\n', '').replace('\\r', '') for text in tqdm(x, desc='Remove ritorno a capo ...')]\n",
        "\n",
        "    # rimuovo le stopwords se sono presenti\n",
        "    if stopwords:\n",
        "      text_clean = []\n",
        "      for sentence in tqdm(x, desc='Remove StopWord ... '):\n",
        "        sentence = remove_stopwords(sentence)\n",
        "        text_clean.append(sentence)\n",
        "    else:\n",
        "      text_clean = x\n",
        "\n",
        "    # Conto il numero di uppercase e normalizzo il valore per la lunghezza della frase\n",
        "    num_uppercase = []\n",
        "    for sentence in tqdm(text_clean, desc=\"Count UpperCase ... \"):\n",
        "      count_words_ = count_words(sentence)\n",
        "      count_uppercase_words_ = count_uppercase_words(sentence)\n",
        "\n",
        "      if(count_words_ != 0 and count_words_ >= count_uppercase_words_):\n",
        "        num_uppercase.append(count_uppercase_words_ / count_words_)\n",
        "      else:\n",
        "        num_uppercase.append(0)\n",
        "\n",
        "    # genero gli embeddings\n",
        "    embeddings_list = []\n",
        "    for text in tqdm(text_clean, desc='Generation Embeddings ...'):\n",
        "      tokens = tokenizer([text], add_special_tokens=True, return_tensors='pt', padding='max_length', max_length = 512, truncation=True)\n",
        "      input_id_texts = tokens['input_ids'].squeeze(1).to(device)\n",
        "      mask_texts = tokens['attention_mask'].squeeze(1).to(device)\n",
        "      embeddings_list.append(gen_embeddings(input_id_texts, mask_texts))\n",
        "\n",
        "\n",
        "    self.embeddings = embeddings_list\n",
        "    self.uppercase_ratio = [torch.tensor([i]) for i in num_uppercase]\n",
        "    self.labels = [float(label) for label in y]\n",
        "\n",
        "  def classes(self):          # serve per definire le classi, cioè le labels, nel nostro caso 0 e 1\n",
        "    return self.labels\n",
        "\n",
        "  def __len__(self):\n",
        "    return len(self.labels)\n",
        "\n",
        "  def __getitem__(self, idx):\n",
        "    return self.embeddings[idx],  self.uppercase_ratio[idx], torch.tensor(self.labels[idx])"
      ]
    },
    {
      "cell_type": "markdown",
      "source": [
        "# Definizione EarlyStopping"
      ],
      "metadata": {
        "id": "ERRrREvGz0OP"
      }
    },
    {
      "cell_type": "markdown",
      "source": [
        "Desfinisco l' Early stopping che verrà utilizzato per terminare l'addestramento quando il modello non migliora più."
      ],
      "metadata": {
        "id": "7Sl-Z_ubTZuT"
      }
    },
    {
      "cell_type": "code",
      "execution_count": 23,
      "metadata": {
        "id": "KgvYyVaREalE"
      },
      "outputs": [],
      "source": [
        "class EarlyStopping:\n",
        "  def __init__(self, patience=5, min_delta=0.0):\n",
        "\n",
        "    self.patience = patience\n",
        "    self.min_delta = min_delta              # valore minimo di decrescita della loss di validazione all'epoca corrente\n",
        "                                            # per asserire che c'è un miglioramenti della loss\n",
        "    self.counter = 0                        # contatore delle epoche di pazienza\n",
        "    self.early_stop = False                 # flag di early stop\n",
        "    self.min_validation_loss = torch.inf    # valore corrente ottimo della loss di validazione\n",
        "\n",
        "  def __call__(self, validation_loss):\n",
        "    # chiamata in forma funzionale dell'oggetto di classe EarlySopping\n",
        "\n",
        "    if (validation_loss + self.min_delta) >= self.min_validation_loss:  # la loss di validazione non decresce\n",
        "      self.counter += 1                                               # incrementiamo il contatore delle epoche di pazienza\n",
        "      if self.counter >= self.patience:\n",
        "        self.early_stop = True\n",
        "        print(\"Early stop!\")\n",
        "    else:                                                               # c'è un miglioramento della loss:\n",
        "      self.min_validation_loss = validation_loss                      # consideriamo la loss corrente\n",
        "                                                                      # come nuova loss ottimale\n",
        "      self.counter = 0                                                # e azzeriamo il contatore di pazienza"
      ]
    },
    {
      "cell_type": "markdown",
      "source": [
        "# Definizione Classificatore"
      ],
      "metadata": {
        "id": "Imcb9aj2z3uQ"
      }
    },
    {
      "cell_type": "markdown",
      "source": [
        "Questo codice definisce una classe MyClassifier che estende nn.Module,un modello PyTorch. Il classificatore scelto è un classificatore di tipo feed-forward. Questa tipologia è largamente usata per l'analisi testuale e la categorizzazione dei testi per la sua flessibilità e per la capacità di apprendere rappresentazioni complesse nei dati. Tra i layer vengono utilizzati tecniche di regolarizzazione come dropout per prevenire l'overfitting , fondamentale in casi come questo in cui il dataset è di ridotte dimensioni e la batch normalization che viene utilizzata per migliorare la stabilità dell'addestramento"
      ],
      "metadata": {
        "id": "dJnpqcukd6KJ"
      }
    },
    {
      "cell_type": "code",
      "execution_count": 24,
      "metadata": {
        "id": "a2kGWN2EM33k"
      },
      "outputs": [],
      "source": [
        "# è troppo semplice, noi abbiamo molti input (dell'ordine di 768)\n",
        "# dobbiamo fare una rete più complessa\n",
        "# per ora scrivo questa tanto per testare\n",
        "\n",
        "class MyClassifier(nn.Module):\n",
        "\n",
        "  def __init__(self, num_inputs, num_hidden, num_outputs, dropout):\n",
        "    super().__init__()\n",
        "    self.linear1 = nn.Linear(num_inputs+1, num_hidden)\n",
        "    self.linear2 = nn.Linear(num_hidden, num_hidden//2)\n",
        "    self.linearHidden = nn.Linear(num_hidden//2, num_hidden//2)\n",
        "    self.linear3 = nn.Linear(num_hidden//2, num_hidden//4)\n",
        "    self.linear4 = nn.Linear(num_hidden//4, num_outputs)\n",
        "    self.act_fn = nn.LeakyReLU(0.2) #nn.ReLU()\n",
        "    self.batch_norm = nn.BatchNorm1d(num_hidden)\n",
        "    self.batch_norm2 = nn.BatchNorm1d(num_hidden//2)\n",
        "    self.batch_norm3 = nn.BatchNorm1d(num_hidden//4)\n",
        "    self.dropout = nn.Dropout(dropout)\n",
        "\n",
        "\n",
        "  def forward(self, input_texts, input_uppercase, num_layer_hidden=0):\n",
        "    x = torch.hstack([input_texts, input_uppercase])\n",
        "    x = self.linear1(x)\n",
        "    x = self.batch_norm(x)\n",
        "    x = self.dropout(x)\n",
        "    x = self.act_fn(x)\n",
        "    x = self.linear2(x)\n",
        "    x = self.batch_norm2(x)\n",
        "    x = self.dropout(x)\n",
        "    x = self.act_fn(x)\n",
        "\n",
        "    for i in range(num_layer_hidden):\n",
        "      x = self.linearHidden(x)\n",
        "      x = self.batch_norm2(x)\n",
        "      x = self.dropout(x)\n",
        "      x = self.act_fn(x)\n",
        "\n",
        "    x = self.linear3(x)\n",
        "    x = self.batch_norm3(x)\n",
        "    x = self.dropout(x)\n",
        "    x = self.act_fn(x)\n",
        "    x = self.linear4(x)\n",
        "    return x"
      ]
    },
    {
      "cell_type": "markdown",
      "source": [
        "# Definizione delle varie funzioni per l'addestramento e il test"
      ],
      "metadata": {
        "id": "XjE0rDxB1SLz"
      }
    },
    {
      "cell_type": "markdown",
      "source": [
        "\n",
        "La funzione f1_score_macro_sklearn calcola la metrica F1-score in modo macro per valutare le prestazioni di un classificatore.\n",
        "Metrica utilizzata nella challenge \"Evalita 2023\""
      ],
      "metadata": {
        "id": "oFNAAI5EfLRw"
      }
    },
    {
      "cell_type": "code",
      "source": [
        "## F1 Score Macro\n",
        "\n",
        "from sklearn.metrics import f1_score\n",
        "\n",
        "def f1_score_macro_sklearn(y_true, y_pred):\n",
        "  y_pred = torch.round(y_pred.cpu()).numpy()\n",
        "  y_true = y_true.cpu().numpy()\n",
        "  return f1_score(y_true, y_pred, average='macro')"
      ],
      "metadata": {
        "id": "uR9IHal3kKkG"
      },
      "execution_count": 25,
      "outputs": []
    },
    {
      "cell_type": "markdown",
      "source": [
        "In questa parte la funzione **my_train_loop** esegue un ciclo di addestramento per il modello di classificazione.\n",
        "Il ciclo di addestramento viene effettuato iterando sui dati di addestramento, eseguendo il modello sui dati di input, calcolando la perdita, eseguendo la backpropagation, aggiornando i parametri del modello, calcolando l'accuratezza e salvando le predizioni e le etichette. La funzione infine calcola la perdita media, l'accuratezza media e la F1-score macro per valutare le prestazioni del modello."
      ],
      "metadata": {
        "id": "3FHHQJRYf_TS"
      }
    },
    {
      "cell_type": "code",
      "execution_count": 26,
      "metadata": {
        "id": "X5InDAYWQtOR"
      },
      "outputs": [],
      "source": [
        "def my_train_loop(model, optimizer, train_dataloader, len_train_dataset, loss_module, num_layer_hidden):\n",
        "  #imposto il modello in modalità allenamento\n",
        "  model.train()\n",
        "\n",
        "  train_loss = 0.0\n",
        "  true_output = 0.0\n",
        "\n",
        "  all_predictions = []\n",
        "  all_labels = []\n",
        "\n",
        "  for data_inputs, data_uppercase, data_labels in train_dataloader:\n",
        "\n",
        "    # 1. Sposto i dati di input sul dispositivo\n",
        "    data_inputs = data_inputs.to(device)\n",
        "    data_uppercase = data_uppercase.to(device)\n",
        "    data_labels = data_labels.to(device)\n",
        "\n",
        "    # 2. Eseguo il modello sui dati di input\n",
        "    output = model(data_inputs, data_uppercase, num_layer_hidden)#.squeeze(1))\n",
        "    output = output.squeeze(1) # l'output sarà [BatchSize, 1] noi vogliamo solo [BatchSize]\n",
        "\n",
        "    # 3. Calcolo la perdita\n",
        "    batch_loss = loss_module(output, data_labels.float()) # il valore calcolato viene valutato per blocco\n",
        "\n",
        "    # 4. Eseguo la BackPropagation\n",
        "    optimizer.zero_grad()\n",
        "    batch_loss.backward()\n",
        "\n",
        "    # 5. Aggiorno i parametri (cioè i pesi)\n",
        "    optimizer.step()\n",
        "\n",
        "    # Step 6: Sommo il batch loss\n",
        "    train_loss += batch_loss.item()\n",
        "\n",
        "    # Step 7: Calcolo l'accuracy\n",
        "    predictions = torch.sigmoid(output)  #Sigmoid to map predictions between 0 and 1\n",
        "    predictions = (predictions >= 0.5).float()#.long()  #Binarize predictions to 0 and 1\n",
        "    true_output += (predictions == data_labels).sum().item()\n",
        "\n",
        "    # Step 8: Salva predizioni e etichette per calcolare la F1-score macro alla fine\n",
        "    all_predictions.append(predictions)\n",
        "    all_labels.append(data_labels)\n",
        "\n",
        "  #Calcolo Loss e accuracy\n",
        "  train_loss = train_loss/len(train_dataloader)\n",
        "  train_acc = true_output/len_train_dataset\n",
        "\n",
        "  # Calcola F1-score macro\n",
        "  all_labels = torch.cat(all_labels, dim=0)\n",
        "  all_predictions = torch.cat(all_predictions, dim=0)\n",
        "  f1_macro = f1_score_macro_sklearn(all_labels, all_predictions)\n",
        "\n",
        "  return train_loss, train_acc, f1_macro"
      ]
    },
    {
      "cell_type": "markdown",
      "source": [
        "La funzione **my_test_loop** esegue un ciclo di test per un modello di classificazione. Il ciclo di test viene eseguito iterando sui dati di test, eseguendo il modello sui dati di input, calcolando la perdita, calcolando l'accuratezza, salvando le predizioni e le etichette e infine calcolando la perdita media, l'accuratezza media e la F1-score macro per valutare le prestazioni del modello."
      ],
      "metadata": {
        "id": "WWokeGulkB_N"
      }
    },
    {
      "cell_type": "code",
      "execution_count": 27,
      "metadata": {
        "id": "x_gVr8_iQ2za"
      },
      "outputs": [],
      "source": [
        "def my_test_loop(model, dataset, len_dataset, loss_module, num_layer_hidden):\n",
        "  #imposto il modello in modalità di valutazione\n",
        "  model.eval()\n",
        "\n",
        "  true_output, test_loss = 0., 0.\n",
        "\n",
        "  all_predictions = []\n",
        "  all_labels = []\n",
        "\n",
        "  with torch.no_grad():\n",
        "    for data_inputs, data_uppercase, data_labels in dataset:\n",
        "\n",
        "      # 1. Sposto i dati di input sul dispositivo\n",
        "      data_inputs = data_inputs.unsqueeze(0).to(device)\n",
        "      data_uppercase = data_uppercase.unsqueeze(0).to(device)\n",
        "      data_labels = data_labels.unsqueeze(0).to(device)\n",
        "\n",
        "      # 2. Eseguo il modello sui dati di input\n",
        "      output = model(data_inputs, data_uppercase, num_layer_hidden)#.squeeze(1))\n",
        "      output = output.squeeze(0) # l'output sarà [BatchSize, 1] noi vogliamo solo [BatchSize]\n",
        "\n",
        "      # 3. Calcolo la perdita\n",
        "      loss = loss_module(output, data_labels.float())\n",
        "      test_loss += loss.item()\n",
        "\n",
        "      # 4. Calcolo accuracy\n",
        "      predictions = torch.sigmoid(output)  #Sigmoid to map predictions between 0 and 1\n",
        "      predictions = (predictions >= 0.5).float()#.long()  #Binarize predictions to 0 and 1\n",
        "      true_output += (predictions == data_labels).sum().item()\n",
        "\n",
        "      # 5: Salva predizioni e etichette per calcolare la F1-score macro alla fine\n",
        "      all_predictions.append(predictions)\n",
        "      all_labels.append(data_labels)\n",
        "\n",
        "    test_loss = test_loss / len_dataset\n",
        "    test_acc = true_output / len_dataset\n",
        "    # Calcola F1-score macro\n",
        "    all_labels = torch.cat(all_labels, dim=0)\n",
        "    all_predictions = torch.cat(all_predictions, dim=0)\n",
        "    f1_macro = f1_score_macro_sklearn(all_labels, all_predictions)\n",
        "\n",
        "  return test_acc, test_loss, f1_macro"
      ]
    },
    {
      "cell_type": "markdown",
      "source": [
        "La funzione **my_train_test** gestisce il ciclo di addestramento e test di un modello di machine learning. Durante l'addestramento, calcola la loss, l'accuracy e la F1-score per il set di allenamento. Infine, restituisce le valutazioni del modello durante l'addestramento, la validazione (se presente) e i risultati sul set di test."
      ],
      "metadata": {
        "id": "r_fe8Uh_kEGv"
      }
    },
    {
      "cell_type": "code",
      "execution_count": 28,
      "metadata": {
        "id": "D1T8cj04Q5Qa"
      },
      "outputs": [],
      "source": [
        "def my_train_test(model, optimizer, train_dataset, val_dataset, test_dataset, loss_module, num_epochs, num_layer_hidden, early_stopping=None):\n",
        "\n",
        "  len_train_dataset = len(train_dataset)\n",
        "  len_val_dataset = len(val_dataset)\n",
        "  len_test_dataset = len(test_dataset)\n",
        "\n",
        "  train_dataloader = torch.utils.data.DataLoader(train_dataset, batch_size = hyperparameters['batch_size'], shuffle=True)\n",
        "\n",
        "  # liste dei valori di loss e accuracy epoca per epoca per il plot\n",
        "  list_train_loss, list_train_acc, list_val_loss, list_val_acc = [], [], [], []\n",
        "  list_train_f1, list_val_f1 = [], []\n",
        "\n",
        "  ## A. FASE DI ADDESTRAMENTO\n",
        "  for epoch in tqdm(range(num_epochs),  desc='training epch ...'):\n",
        "\n",
        "    # 1. ADDESTRAMENTO del Modello\n",
        "    train_loss, train_acc, train_f1 = my_train_loop(model, optimizer, train_dataloader, len_train_dataset, loss_module, num_layer_hidden)\n",
        "\n",
        "    # 2. Fase di VALIDAZIONE se è presente la callback di early stopping\n",
        "    if early_stopping != None:\n",
        "      val_acc, val_loss, val_f1 = my_test_loop(model, val_dataset, len_val_dataset, loss_module, num_layer_hidden)\n",
        "      list_val_loss.append(val_loss)\n",
        "      list_val_acc.append(val_acc)\n",
        "      list_val_f1.append(val_f1)\n",
        "\n",
        "      # EARLY STOPPIN\n",
        "      early_stopping(val_loss)\n",
        "      if early_stopping.early_stop:\n",
        "        break\n",
        "\n",
        "    # Aggiornamento delle lista che contengono le varie valutazioni del modello\n",
        "    list_train_loss.append(train_loss)\n",
        "    list_train_acc.append(train_acc)\n",
        "    list_train_f1.append(train_f1)\n",
        "\n",
        "  ## B. FASE DI TESTING\n",
        "  test_acc, test_loss, test_f1 = my_test_loop(model, test_dataset, len_test_dataset, loss_module, num_layer_hidden)\n",
        "\n",
        "  return list_train_loss, list_train_acc, list_train_f1, list_val_loss, list_val_acc, list_val_f1, test_acc, test_f1"
      ]
    },
    {
      "cell_type": "markdown",
      "source": [
        "# Generazione dei Dataset di train, validation e test"
      ],
      "metadata": {
        "id": "E-qo9INxhPjH"
      }
    },
    {
      "cell_type": "markdown",
      "source": [
        "Viene preparato un dataset personalizzato per l'allenamento, la validazione e il test del modello, ovvero vengono ordinati gli insiemi di allenamento (x_train e y_train), validazione (x_val e y_val), e test (x_test e y_test) per gli indici.\n",
        "Successivamente, verranno creati oggetti MyDataset utilizzando questi dati ordinati.\n",
        "Ogni oggetto MyDataset è istanziato con le features e le etichette corrispondenti, insieme a un insieme di stopwords specificato dai parametri di iperparametro (hyperparameters[\"stopwords\"])."
      ],
      "metadata": {
        "id": "UFJOlgOxpzum"
      }
    },
    {
      "cell_type": "code",
      "source": [
        "df_train_dataAug = pd.read_csv(root+ \"data/taskA/train_dataset_Aug.csv\")\n",
        "df_val = pd.read_csv(root+ \"data/taskA/validation_dataset.csv\")\n",
        "df_test = pd.read_csv(root+ \"data/taskA/test_dataset.csv\")"
      ],
      "metadata": {
        "id": "Kzm79k_Ne6-X"
      },
      "execution_count": null,
      "outputs": []
    },
    {
      "cell_type": "code",
      "source": [
        "x_train_aug, y_train_aug = df_train_dataAug['comment_text'], df_train_dataAug['conspiratorial']\n",
        "x_val, y_val = df_val['comment_text'], df_val['conspiratorial']\n",
        "x_test, y_test = df_test['comment_text'], df_test['conspiratorial']"
      ],
      "metadata": {
        "id": "3zzN0yGWfEcc"
      },
      "execution_count": null,
      "outputs": []
    },
    {
      "cell_type": "markdown",
      "source": [
        "Inizializzazione del dataset tramite la classe MyDataset"
      ],
      "metadata": {
        "id": "vmehQHoKfZTE"
      }
    },
    {
      "cell_type": "code",
      "source": [
        "train_dataset = MyDataset(x_train_aug.values, y_train_aug.values, hyperparameters[\"stopwords\"])\n",
        "val_dataset = MyDataset(x_val.values, y_val.values, hyperparameters[\"stopwords\"])\n",
        "test_dataset = MyDataset(x_test.values, y_test.values, hyperparameters[\"stopwords\"])"
      ],
      "metadata": {
        "id": "Y0WqmzHsL05E",
        "colab": {
          "base_uri": "https://localhost:8080/"
        },
        "outputId": "342097c8-1ba4-4d0a-f909-8b472b744fcc"
      },
      "execution_count": null,
      "outputs": [
        {
          "output_type": "stream",
          "name": "stderr",
          "text": [
            "Remove ritorno a capo ...: 100%|██████████| 2641/2641 [00:00<00:00, 541008.88it/s]\n",
            "Remove StopWord ... : 100%|██████████| 2641/2641 [00:12<00:00, 204.55it/s]\n",
            "Count UpperCase ... : 100%|██████████| 2641/2641 [00:00<00:00, 70410.73it/s]\n",
            "Generation Embeddings ...: 100%|██████████| 2641/2641 [01:21<00:00, 32.24it/s]\n",
            "Remove ritorno a capo ...: 100%|██████████| 148/148 [00:00<00:00, 148293.60it/s]\n",
            "Remove StopWord ... : 100%|██████████| 148/148 [00:00<00:00, 158.99it/s]\n",
            "Count UpperCase ... : 100%|██████████| 148/148 [00:00<00:00, 54846.88it/s]\n",
            "Generation Embeddings ...: 100%|██████████| 148/148 [00:04<00:00, 30.86it/s]\n",
            "Remove ritorno a capo ...: 100%|██████████| 369/369 [00:00<00:00, 304665.00it/s]\n",
            "Remove StopWord ... : 100%|██████████| 369/369 [00:02<00:00, 162.19it/s]\n",
            "Count UpperCase ... : 100%|██████████| 369/369 [00:00<00:00, 38534.46it/s]\n",
            "Generation Embeddings ...: 100%|██████████| 369/369 [00:12<00:00, 30.20it/s]\n"
          ]
        }
      ]
    },
    {
      "cell_type": "markdown",
      "source": [
        "# Grid Search"
      ],
      "metadata": {
        "id": "ADZpkjYYabbM"
      }
    },
    {
      "cell_type": "markdown",
      "source": [
        "Grid Search con relativi plot. La Grid Search è stata implementata grazie alla libreria sklearn e ci ha permesso di individuare alcuni dei parametri migliori"
      ],
      "metadata": {
        "id": "vxhrLuAxflsj"
      }
    },
    {
      "cell_type": "code",
      "source": [
        "from torch.optim import Adam\n",
        "from transformers import AutoConfig, AutoModel, AutoTokenizer\n",
        "\n",
        "device = torch.device(\"cuda\" if torch.cuda.is_available() else \"cpu\")\n",
        "print(f\"Using {device} device\")\n",
        "\n",
        "config = AutoConfig.from_pretrained(hyperparameters[\"language_model\"])\n",
        "tokenizer = AutoTokenizer.from_pretrained(hyperparameters[\"language_model\"])\n",
        "lm_model = AutoModel.from_pretrained(hyperparameters[\"language_model\"], config=config).to(device)\n",
        "modelClassifier = MyClassifier(num_inputs=768, num_hidden=hyperparameters[\"h_dim\"], num_outputs=1, dropout=hyperparameters[\"dropout\"]).to(device)\n",
        "\n",
        "print(modelClassifier)\n",
        "# Calcoliamo il numero totale dei parametri del modello\n",
        "total_params = sum(p.numel() for p in modelClassifier.parameters())\n",
        "print(f\"Numbero totale dei parametri: {total_params}\")\n",
        "\n",
        "criterion = nn.BCEWithLogitsLoss()\n",
        "optimizer = Adam(modelClassifier.parameters(), lr=hyperparameters[\"learning_rate\"])\n",
        "\n",
        "# Creiamo la callback di early stopping da passare al nostro metodo di addestramento\n",
        "early_stopping = EarlyStopping(patience=hyperparameters['patience'], min_delta=hyperparameters['min_delta'])"
      ],
      "metadata": {
        "id": "bxSr5y2hNBdW"
      },
      "execution_count": null,
      "outputs": []
    },
    {
      "cell_type": "code",
      "source": [
        "x_train = x_train.sort_index()\n",
        "y_train = y_train.sort_index()\n",
        "\n",
        "train_dataset = MyDataset(x_train.values, y_train.values, hyperparameters[\"stopwords\"])\n",
        "val_dataset = MyDataset(x_val.values, y_val.values, hyperparameters[\"stopwords\"])\n",
        "test_dataset = MyDataset(x_test.values, y_test.values, hyperparameters[\"stopwords\"])"
      ],
      "metadata": {
        "id": "DHgocYKEIvUx"
      },
      "execution_count": null,
      "outputs": []
    },
    {
      "cell_type": "code",
      "source": [
        "from sklearn.model_selection import ParameterGrid\n",
        "import matplotlib.pyplot as plt\n",
        "\n",
        "# Definizione del set di iperparametri da testare\n",
        "param_grid = {\n",
        "    'learning_rate': [1e-6],\n",
        "    'batch_size': [64, 128],\n",
        "    'dropout': [0.3, 0.4, 0.5],\n",
        "    'h_dim': [512, 768, 1024],\n",
        "    'num_layer_hidden': [0, 2, 5]\n",
        "}\n",
        "\n",
        "# Creazione di tutte le combinazioni di iperparametri\n",
        "param_combinations = list(ParameterGrid(param_grid))\n",
        "\n",
        "# Lista per salvare i risultati della grid search\n",
        "results = []\n",
        "\n",
        "# Ciclo attraverso tutte le combinazioni di iperparametri\n",
        "for params in param_combinations:\n",
        "  print(\"\\nTesting with hyperparameters:\", params)\n",
        "\n",
        "  # Acquisiamo il device su cui effettueremo il training\n",
        "  device = torch.device(\"cuda\" if torch.cuda.is_available() else \"cpu\")\n",
        "  print(f\"Using {device} device\")\n",
        "\n",
        "  config = AutoConfig.from_pretrained(hyperparameters[\"language_model\"])\n",
        "  tokenizer = AutoTokenizer.from_pretrained(hyperparameters[\"language_model\"])\n",
        "  lm_model = AutoModel.from_pretrained(hyperparameters[\"language_model\"], config=config).to(device)\n",
        "  modelClassifier = MyClassifier(num_inputs=768, num_hidden=params[\"h_dim\"], num_outputs=1, dropout=params[\"dropout\"]).to(device)\n",
        "\n",
        "  criterion = nn.BCEWithLogitsLoss()\n",
        "  optimizer = Adam(modelClassifier.parameters(), lr=params[\"learning_rate\"])\n",
        "\n",
        "  # Creiamo la callback di early stopping da passare al nostro metodo di addestramento\n",
        "  early_stopping = EarlyStopping(patience=hyperparameters['patience'], min_delta=hyperparameters['min_delta'])\n",
        "\n",
        "  # Addestramento del modello con i parametri correnti\n",
        "  train_loss, train_acc, train_f1, validation_loss, validation_acc, val_f1, test_acc, test_f1 = my_train_test(modelClassifier,\n",
        "                                                                                            optimizer,\n",
        "                                                                                            train_dataset,\n",
        "                                                                                            val_dataset,\n",
        "                                                                                            test_dataset,\n",
        "                                                                                            criterion,\n",
        "                                                                                            hyperparameters[\"epochs\"],\n",
        "                                                                                            params[\"num_layer_hidden\"],\n",
        "                                                                                            early_stopping)\n",
        "\n",
        "  print(\"\\n---------------\\n\")\n",
        "  print(f\"Test Accuracy: {test_acc}\\n\")\n",
        "  print(f\"Test F1: {test_f1}\")\n",
        "  print(\"\\n---------------\\n\")\n",
        "\n",
        "  #Loss\n",
        "  plt.plot(train_loss, label='training loss')\n",
        "  plt.plot(validation_loss, label='validation loss')\n",
        "  plt.legend(loc='upper right')\n",
        "  plt.ylim(0,1)\n",
        "  plt.grid(True)\n",
        "  plt.show()\n",
        "\n",
        "  #F1\n",
        "  plt.plot(train_f1, label='training f1')\n",
        "  plt.plot(val_f1, label='validation f1')\n",
        "  plt.legend(loc='lower right')\n",
        "  plt.ylim(0,1)\n",
        "  plt.grid(True)\n",
        "  plt.show()\n",
        "\n",
        "  # Salvataggio dei risultati nella lista\n",
        "  results.append({\n",
        "      'params': params,\n",
        "      'train_loss': train_loss,\n",
        "      'train_f1': train_f1,\n",
        "      'validation_loss': validation_loss[-1],  # Prendi l'ultimo valore della lista di loss di validazione\n",
        "      'validation_f1': val_f1[-1],    # Prendi l'ultimo valore della lista di f1 di validazione\n",
        "      'test_f1': test_f1,\n",
        "  })\n",
        "\n",
        "# Trova la combinazione di iperparametri che ha ottenuto il miglior risultato sulla validazione\n",
        "best_result = max(results, key=lambda x: x['val_acc'])\n",
        "\n",
        "print(\"\\nBest hyperparameters:\", best_result['params'])\n",
        "print(\"Validation Accuracy:\", best_result['val_acc'])\n",
        "print(\"Test Accuracy:\", best_result['test_acc'])\n",
        "\n",
        "# Trova la combinazione di iperparametri che ha ottenuto il miglior risultato sulla validazione\n",
        "best_result = max(results, key=lambda x: x['val_f1'])\n",
        "\n",
        "print(\"\\nBest hyperparameters:\", best_result['params'])\n",
        "print(\"Validation Accuracy:\", best_result['val_f1'])\n",
        "print(\"Test Accuracy:\", best_result['test_f1'])\n"
      ],
      "metadata": {
        "id": "YUgeurbeBF0o"
      },
      "execution_count": null,
      "outputs": []
    },
    {
      "cell_type": "markdown",
      "source": [
        "# Avvio dell'addestramento"
      ],
      "metadata": {
        "id": "_jEu3rIx8cvQ"
      }
    },
    {
      "cell_type": "markdown",
      "source": [
        "in questa parte viene configurato il modello di classificazione e l'ottimizzatore per l'addestramento.\n",
        "Viene specificato il dispositivo di elaborazione (CPU o GPU) e caricato il modello del linguaggio preaddestrato, il tokenizer e il modello di classificazione. Inoltre, calcola il numero totale di parametri del modello di classificazione e crea un oggetto di ottimizzazione Adam per l'apprendimento. Infine, crea un oggetto di early stopping"
      ],
      "metadata": {
        "id": "nqH4DdBPel5n"
      }
    },
    {
      "cell_type": "code",
      "source": [
        "from torch.optim import Adam\n",
        "from transformers import AutoConfig, AutoModel, AutoTokenizer\n",
        "\n",
        "device = torch.device(\"cuda\" if torch.cuda.is_available() else \"cpu\")\n",
        "print(f\"Using {device} device\")\n",
        "\n",
        "config = AutoConfig.from_pretrained(hyperparameters[\"language_model\"])\n",
        "tokenizer = AutoTokenizer.from_pretrained(hyperparameters[\"language_model\"])\n",
        "lm_model = AutoModel.from_pretrained(hyperparameters[\"language_model\"], config=config).to(device)\n",
        "modelClassifier = MyClassifier(num_inputs=768, num_hidden=hyperparameters[\"h_dim\"], num_outputs=1, dropout=hyperparameters[\"dropout\"]).to(device)\n",
        "\n",
        "print(modelClassifier)\n",
        "# Calcoliamo il numero totale dei parametri del modello\n",
        "total_params = sum(p.numel() for p in modelClassifier.parameters())\n",
        "print(f\"Numbero totale dei parametri: {total_params}\")\n",
        "\n",
        "criterion = nn.BCEWithLogitsLoss()\n",
        "optimizer = Adam(modelClassifier.parameters(), lr=hyperparameters[\"learning_rate\"])\n",
        "\n",
        "# Creiamo la callback di early stopping da passare al nostro metodo di addestramento\n",
        "early_stopping = EarlyStopping(patience=hyperparameters['patience'], min_delta=hyperparameters['min_delta'])"
      ],
      "metadata": {
        "id": "cdaJirnA8byT",
        "colab": {
          "base_uri": "https://localhost:8080/"
        },
        "outputId": "c66bcb6a-1c19-40cd-e92b-eeae00bdb43d"
      },
      "execution_count": 52,
      "outputs": [
        {
          "output_type": "stream",
          "name": "stdout",
          "text": [
            "Using cuda device\n"
          ]
        },
        {
          "output_type": "stream",
          "name": "stderr",
          "text": [
            "/usr/local/lib/python3.10/dist-packages/huggingface_hub/utils/_token.py:72: UserWarning: \n",
            "The secret `HF_TOKEN` does not exist in your Colab secrets.\n",
            "To authenticate with the Hugging Face Hub, create a token in your settings tab (https://huggingface.co/settings/tokens), set it as secret in your Google Colab and restart your session.\n",
            "You will be able to reuse this secret in all of your notebooks.\n",
            "Please note that authentication is recommended but still optional to access public models or datasets.\n",
            "  warnings.warn(\n"
          ]
        },
        {
          "output_type": "stream",
          "name": "stdout",
          "text": [
            "MyClassifier(\n",
            "  (linear1): Linear(in_features=769, out_features=512, bias=True)\n",
            "  (linear2): Linear(in_features=512, out_features=256, bias=True)\n",
            "  (linearHidden): Linear(in_features=256, out_features=256, bias=True)\n",
            "  (linear3): Linear(in_features=256, out_features=128, bias=True)\n",
            "  (linear4): Linear(in_features=128, out_features=1, bias=True)\n",
            "  (act_fn): LeakyReLU(negative_slope=0.2)\n",
            "  (batch_norm): BatchNorm1d(512, eps=1e-05, momentum=0.1, affine=True, track_running_stats=True)\n",
            "  (batch_norm2): BatchNorm1d(256, eps=1e-05, momentum=0.1, affine=True, track_running_stats=True)\n",
            "  (batch_norm3): BatchNorm1d(128, eps=1e-05, momentum=0.1, affine=True, track_running_stats=True)\n",
            "  (dropout): Dropout(p=0.3, inplace=False)\n",
            ")\n",
            "Numbero totale dei parametri: 626177\n"
          ]
        }
      ]
    },
    {
      "cell_type": "markdown",
      "source": [
        "Il codice esegue l'allenamento e il test di un modello (modelClassifier) utilizzando i dataset di allenamento, validazione e test (train_dataset, val_dataset, test_dataset). Vengono utilizzati un ottimizzatore (optimizer), una funzione di loss (criterion), e i parametri di iperparametro specificati"
      ],
      "metadata": {
        "id": "1UynLAD9rCVu"
      }
    },
    {
      "cell_type": "code",
      "source": [
        "import matplotlib.pyplot as plt\n",
        "train_loss, train_acc, train_f1, validation_loss, validation_acc, val_f1, test_acc, test_f1 = my_train_test(modelClassifier,\n",
        "                                                                                              optimizer,\n",
        "                                                                                              train_dataset,\n",
        "                                                                                              val_dataset,\n",
        "                                                                                              test_dataset,\n",
        "                                                                                              criterion,\n",
        "                                                                                              hyperparameters[\"epochs\"],\n",
        "                                                                                              hyperparameters[\"num_layer_hidden\"],\n",
        "                                                                                              early_stopping)\n",
        "\n",
        "print(\"\\n---------------\\n\")\n",
        "print(f\"Test Accuracy: {test_acc}\\n\")\n",
        "print(f\"Test F1: {test_f1}\")\n",
        "print(\"\\n---------------\\n\")\n",
        "\n",
        "#Loss\n",
        "plt.plot(train_loss, label='training loss')\n",
        "plt.plot(validation_loss, label='validation loss')\n",
        "plt.legend(loc='upper right')\n",
        "plt.ylim(0,1)\n",
        "plt.grid(True)\n",
        "plt.show()\n",
        "\n",
        "#F1\n",
        "plt.plot(train_f1, label='training f1')\n",
        "plt.plot(val_f1, label='validation f1')\n",
        "plt.legend(loc='lower right')\n",
        "plt.ylim(0,1)\n",
        "plt.grid(True)\n",
        "plt.show()"
      ],
      "metadata": {
        "colab": {
          "base_uri": "https://localhost:8080/",
          "height": 1000
        },
        "id": "3ePG6muE8qrb",
        "outputId": "5f6d5d49-26f3-4673-a76d-7546222d4390"
      },
      "execution_count": 53,
      "outputs": [
        {
          "output_type": "stream",
          "name": "stderr",
          "text": [
            "training epch ...:  37%|███▋      | 370/1000 [02:33<04:20,  2.41it/s]"
          ]
        },
        {
          "output_type": "stream",
          "name": "stdout",
          "text": [
            "Early stop!\n"
          ]
        },
        {
          "output_type": "stream",
          "name": "stderr",
          "text": [
            "\n"
          ]
        },
        {
          "output_type": "stream",
          "name": "stdout",
          "text": [
            "\n",
            "---------------\n",
            "\n",
            "Test Accuracy: 0.7588075880758808\n",
            "\n",
            "Test F1: 0.7588005023612447\n",
            "\n",
            "---------------\n",
            "\n"
          ]
        },
        {
          "output_type": "display_data",
          "data": {
            "text/plain": [
              "<Figure size 640x480 with 1 Axes>"
            ],
            "image/png": "[encoded data removed]"
          },
          "metadata": {}
        },
        {
          "output_type": "display_data",
          "data": {
            "text/plain": [
              "<Figure size 640x480 with 1 Axes>"
            ],
            "image/png": "[encoded data removed]"
          },
          "metadata": {}
        }
      ]
    },
    {
      "cell_type": "markdown",
      "source": [
        "# Subtask A: Fase di Test per la challenge"
      ],
      "metadata": {
        "id": "DxCddJewN1Cg"
      }
    },
    {
      "cell_type": "code",
      "source": [
        "df_test = pd.read_csv(root+\"data/subtaskA_test.csv\")"
      ],
      "metadata": {
        "id": "bMteLPscA9Pb"
      },
      "execution_count": null,
      "outputs": []
    },
    {
      "cell_type": "markdown",
      "source": [
        "nella classe **MyDataset_test** viene implementato un dataset personalizzato per il testing di un modello, organizzando il testo fornito, calcolando i rapporti delle maiuscole, generando gli embeddings"
      ],
      "metadata": {
        "id": "f6NnSqczslHE"
      }
    },
    {
      "cell_type": "code",
      "source": [
        "class MyDataset_test(torch.utils.data.Dataset):\n",
        "\n",
        "  def __init__(self, x, stopwords):\n",
        "    #rimuovo ritorni a capo\n",
        "    x = [text.replace('\\n\\n', '').replace('\\n', '').replace('\\r', '') for text in tqdm(x, desc='Remove ritorno a capo ...')]\n",
        "\n",
        "    # rimuovo le stopwords se sono presenti\n",
        "    if stopwords:\n",
        "      text_clean = []\n",
        "      for sentence in tqdm(x, desc='Remove StopWord ... '):\n",
        "        sentence = remove_stopwords(sentence)\n",
        "        text_clean.append(sentence)\n",
        "    else:\n",
        "      text_clean = x\n",
        "\n",
        "    # Conto il numero di uppercase e normalizzo il valore per la lunghezza della frase\n",
        "    num_uppercase = []\n",
        "    for sentence in tqdm(text_clean, desc=\"Count UpperCase ... \"):\n",
        "      count_words_ = count_words(sentence)\n",
        "      count_uppercase_words_ = count_uppercase_words(sentence)\n",
        "\n",
        "      if(count_words_ != 0 and count_words_ >= count_uppercase_words_):\n",
        "        num_uppercase.append(count_uppercase_words_ / count_words_)\n",
        "      else:\n",
        "        num_uppercase.append(0)\n",
        "\n",
        "    # genero gli embeddings\n",
        "    embeddings_list = []\n",
        "    for text in tqdm(text_clean, desc='Generation Embeddings ...'):\n",
        "      tokens = tokenizer([text], add_special_tokens=True, return_tensors='pt', padding='max_length', max_length = 512, truncation=True)\n",
        "      input_id_texts = tokens['input_ids'].squeeze(1).to(device)\n",
        "      mask_texts = tokens['attention_mask'].squeeze(1).to(device)\n",
        "      embeddings_list.append(gen_embeddings(input_id_texts, mask_texts))\n",
        "\n",
        "\n",
        "    self.embeddings = embeddings_list\n",
        "    self.uppercase_ratio = [torch.tensor([i]) for i in num_uppercase]\n",
        "\n",
        "  def __len__(self):\n",
        "    return len(self.labels)\n",
        "\n",
        "  def __getitem__(self, idx):\n",
        "    return self.embeddings[idx],  self.uppercase_ratio[idx]"
      ],
      "metadata": {
        "id": "n40FaKgJJyy_"
      },
      "execution_count": null,
      "outputs": []
    },
    {
      "cell_type": "code",
      "source": [
        "test = df_test['comment_text']"
      ],
      "metadata": {
        "id": "L0_TtlMHWdIU"
      },
      "execution_count": null,
      "outputs": []
    },
    {
      "cell_type": "code",
      "source": [
        "dataset = MyDataset_test(test.values, hyperparameters[\"stopwords\"])"
      ],
      "metadata": {
        "colab": {
          "base_uri": "https://localhost:8080/"
        },
        "outputId": "ade78024-9af9-4c8f-9cef-47cc807dba95",
        "id": "F-YIo6rBMTQ9"
      },
      "execution_count": null,
      "outputs": [
        {
          "output_type": "stream",
          "name": "stderr",
          "text": [
            "Remove ritorno a capo ...: 100%|██████████| 460/460 [00:00<00:00, 274605.73it/s]\n",
            "Remove StopWord ... : 100%|██████████| 460/460 [00:04<00:00, 112.28it/s]\n",
            "Count UpperCase ... : 100%|██████████| 460/460 [00:00<00:00, 29318.32it/s]\n",
            "Generation Embeddings ...: 100%|██████████| 460/460 [00:15<00:00, 29.92it/s]\n"
          ]
        }
      ]
    },
    {
      "cell_type": "markdown",
      "source": [
        "La funzione **prediction_test** effettua la predizione del modello su un dataset di test.  \n",
        "La funzione generare le predizioni del modello su un dataset di test e restituisce ulteriori valutazioni o analisi"
      ],
      "metadata": {
        "id": "vei4OCCxteyY"
      }
    },
    {
      "cell_type": "code",
      "source": [
        "def prediction_test(model, dataset, num_layer_hidden):\n",
        "  #imposto il modello in modalità di valutazione\n",
        "  model.eval()\n",
        "\n",
        "  all_predictions = []\n",
        "\n",
        "  with torch.no_grad():\n",
        "    for data_inputs, data_uppercase in dataset:\n",
        "\n",
        "      # 1. Sposto i dati di input sul dispositivo\n",
        "      data_inputs = data_inputs.unsqueeze(0).to(device)\n",
        "      data_uppercase = data_uppercase.unsqueeze(0).to(device)\n",
        "\n",
        "      # 2. Eseguo il modello sui dati di input\n",
        "      output = model(data_inputs, data_uppercase, num_layer_hidden)\n",
        "      output = output.squeeze(0)\n",
        "\n",
        "      # 4. Calcolo accuracy\n",
        "      predictions = torch.sigmoid(output)\n",
        "      predictions = (predictions >= 0.5).float()\n",
        "\n",
        "      # 5: Salva predizioni\n",
        "      all_predictions.append(predictions)\n",
        "\n",
        "  return all_predictions"
      ],
      "metadata": {
        "id": "k1uJf8YWXN0Z"
      },
      "execution_count": null,
      "outputs": []
    },
    {
      "cell_type": "code",
      "source": [
        "list_prediction_test = prediction_test(modelClassifier, dataset, 0)"
      ],
      "metadata": {
        "id": "F1t_kDq7YWkQ"
      },
      "execution_count": null,
      "outputs": []
    },
    {
      "cell_type": "code",
      "source": [
        "lista_interi = [int(tensor.item()) for tensor in list_prediction_test]"
      ],
      "metadata": {
        "id": "9m5Fix1KZ5cw"
      },
      "execution_count": null,
      "outputs": []
    },
    {
      "cell_type": "markdown",
      "source": [
        "viene generato il file .csv contenente i risultati da passare a kaggle per fare la submission"
      ],
      "metadata": {
        "id": "kBYrBeYsuN7U"
      }
    },
    {
      "cell_type": "code",
      "source": [
        "#Impostazione del percorso del nuovo file CSV\n",
        "percorso_file_output = root + \"data/output_testA2.csv\""
      ],
      "metadata": {
        "id": "JAYQ22rJbXdo"
      },
      "execution_count": null,
      "outputs": []
    },
    {
      "cell_type": "code",
      "source": [
        "import csv\n",
        "\n",
        "# Salva la lista come file CSV\n",
        "with open(percorso_file_output, 'w', newline='') as file:\n",
        "  writer = csv.writer(file)\n",
        "  writer.writerow([\"id\", \"Expected\"])\n",
        "  writer.writerows([[i, valore] for i, valore in enumerate(lista_interi)])"
      ],
      "metadata": {
        "id": "N7f0A12saXzH"
      },
      "execution_count": null,
      "outputs": []
    }
  ]
}